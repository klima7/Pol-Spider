{
 "cells": [
  {
   "cell_type": "code",
   "execution_count": 2,
   "metadata": {},
   "outputs": [],
   "source": [
    "from pathlib import Path\n",
    "import json"
   ]
  },
  {
   "cell_type": "code",
   "execution_count": 3,
   "metadata": {},
   "outputs": [],
   "source": [
    "def get_best_checkpoint(path):\n",
    "    evaluation_path = Path(path)\n",
    "    files = list(evaluation_path.glob('*.eval'))\n",
    "    \n",
    "    scores = {}\n",
    "    for file in files:\n",
    "        with open(file) as f:\n",
    "            data = json.load(f)\n",
    "        score = data['total_scores']['all']['exact']\n",
    "        scores[file.name] = score\n",
    "        \n",
    "    scores_sorted = sorted(list(scores.items()), key=lambda i: i[1], reverse=True)\n",
    "    return scores_sorted"
   ]
  },
  {
   "cell_type": "code",
   "execution_count": null,
   "metadata": {},
   "outputs": [],
   "source": [
    "get_best_checkpoint('/home/klima7/magisterka/Polish-Spider/experiments/rat-sql/rat-sql/logdir/eval/bert_pol_spider_mix/pol_spider')\n",
    "# 36"
   ]
  },
  {
   "cell_type": "code",
   "execution_count": null,
   "metadata": {},
   "outputs": [],
   "source": [
    "get_best_checkpoint('/home/klima7/magisterka/Polish-Spider/experiments/rat-sql/rat-sql/logdir/eval/bert_pol_spider_mix/pol_spider')\n",
    "# 31"
   ]
  },
  {
   "cell_type": "code",
   "execution_count": null,
   "metadata": {},
   "outputs": [],
   "source": [
    "get_best_checkpoint('/home/klima7/magisterka/Polish-Spider/experiments/rat-sql/rat-sql/logdir/eval/glove_pol_spider_pl/pol_spider_pl')\n",
    "# 40"
   ]
  }
 ],
 "metadata": {
  "kernelspec": {
   "display_name": "Python 3",
   "language": "python",
   "name": "python3"
  },
  "language_info": {
   "codemirror_mode": {
    "name": "ipython",
    "version": 3
   },
   "file_extension": ".py",
   "mimetype": "text/x-python",
   "name": "python",
   "nbconvert_exporter": "python",
   "pygments_lexer": "ipython3",
   "version": "3.10.9"
  }
 },
 "nbformat": 4,
 "nbformat_minor": 2
}
