{
 "cells": [
  {
   "cell_type": "code",
   "execution_count": 1,
   "metadata": {},
   "outputs": [],
   "source": [
    "from pathlib import Path\n",
    "import json"
   ]
  },
  {
   "cell_type": "code",
   "execution_count": 6,
   "metadata": {},
   "outputs": [],
   "source": [
    "def get_best_checkpoint(path):\n",
    "    evaluation_path = Path(path)\n",
    "    files = list(evaluation_path.glob('*.eval'))\n",
    "    \n",
    "    scores = {}\n",
    "    for file in files:\n",
    "        with open(file) as f:\n",
    "            data = json.load(f)\n",
    "        score = data['total_scores']['all']['exact']\n",
    "        scores[file.name] = score\n",
    "        \n",
    "    scores_sorted = sorted(list(scores.items()), key=lambda i: i[1], reverse=True)\n",
    "    return scores_sorted"
   ]
  },
  {
   "cell_type": "code",
   "execution_count": 7,
   "metadata": {},
   "outputs": [
    {
     "data": {
      "text/plain": [
       "[('bert_run_true_1-step25000.eval', 0.5498065764023211),\n",
       " ('bert_run_true_1-step31100.eval', 0.531431334622824),\n",
       " ('bert_run_true_1-step28000.eval', 0.531431334622824),\n",
       " ('bert_run_true_1-step23000.eval', 0.5294970986460348),\n",
       " ('bert_run_true_1-step30100.eval', 0.528046421663443),\n",
       " ('bert_run_true_1-step24000.eval', 0.5275628626692457),\n",
       " ('bert_run_true_1-step26000.eval', 0.5270793036750484),\n",
       " ('bert_run_true_1-step20300.eval', 0.5106382978723404),\n",
       " ('bert_run_true_1-step29100.eval', 0.5072533849129593),\n",
       " ('bert_run_true_1-step27000.eval', 0.4995164410058027),\n",
       " ('bert_run_true_1-step21300.eval', 0.4946808510638298),\n",
       " ('bert_run_true_1-step38300.eval', 0.26934235976789167),\n",
       " ('bert_run_true_1-step37300.eval', 0.20889748549323017),\n",
       " ('bert_run_true_1-step35600.eval', 0.1465183752417795),\n",
       " ('bert_run_true_1-step34600.eval', 0.09090909090909091),\n",
       " ('bert_run_true_1-step39300.eval', 0.05029013539651837),\n",
       " ('bert_run_true_1-step33600.eval', 0.013056092843326886),\n",
       " ('bert_run_true_1-step32100.eval', 0.0009671179883945841)]"
      ]
     },
     "execution_count": 7,
     "metadata": {},
     "output_type": "execute_result"
    }
   ],
   "source": [
    "get_best_checkpoint('/home/lklimkiewicz/studies/polish-spider/experiments/rat-sql/rat-sql/logdir/eval/bert_pol_spider/pol_spider')"
   ]
  }
 ],
 "metadata": {
  "kernelspec": {
   "display_name": "Python 3",
   "language": "python",
   "name": "python3"
  },
  "language_info": {
   "codemirror_mode": {
    "name": "ipython",
    "version": 3
   },
   "file_extension": ".py",
   "mimetype": "text/x-python",
   "name": "python",
   "nbconvert_exporter": "python",
   "pygments_lexer": "ipython3",
   "version": "3.10.12"
  }
 },
 "nbformat": 4,
 "nbformat_minor": 2
}
