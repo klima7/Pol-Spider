{
 "cells": [
  {
   "cell_type": "code",
   "execution_count": 1,
   "metadata": {},
   "outputs": [],
   "source": [
    "import json\n",
    "from pathlib import Path"
   ]
  },
  {
   "cell_type": "code",
   "execution_count": 2,
   "metadata": {},
   "outputs": [],
   "source": [
    "def get_queries_from_infer(infer_path):\n",
    "    with open(infer_path) as f:\n",
    "        jsons = [json.loads(line.strip()) for line in f.readlines()]\n",
    "        queries = [json['beams'][0]['inferred_code'] if len(json['beams']) > 0 else 'NO SQL' for json in jsons]\n",
    "        return queries"
   ]
  },
  {
   "cell_type": "code",
   "execution_count": 3,
   "metadata": {},
   "outputs": [],
   "source": [
    "def save_queries(queries, path):\n",
    "    with open(path, 'w') as f:\n",
    "        for query in queries:\n",
    "            f.write(query + '\\n')"
   ]
  },
  {
   "cell_type": "code",
   "execution_count": null,
   "metadata": {},
   "outputs": [],
   "source": [
    "logdir_path = Path('logdir')\n",
    "infer_files = list(logdir_path.glob('**/*.infer'))\n",
    "\n",
    "for infer_file_path in infer_files:\n",
    "    queries = get_queries_from_infer(infer_file_path)\n",
    "    queries_path = infer_file_path.parent / (infer_file_path.name[:-6] + '-pred.sql')\n",
    "    save_queries(queries, queries_path)\n",
    "    "
   ]
  }
 ],
 "metadata": {
  "kernelspec": {
   "display_name": "polish-spider",
   "language": "python",
   "name": "python3"
  },
  "language_info": {
   "codemirror_mode": {
    "name": "ipython",
    "version": 3
   },
   "file_extension": ".py",
   "mimetype": "text/x-python",
   "name": "python",
   "nbconvert_exporter": "python",
   "pygments_lexer": "ipython3",
   "version": "3.10.9"
  },
  "orig_nbformat": 4
 },
 "nbformat": 4,
 "nbformat_minor": 2
}
