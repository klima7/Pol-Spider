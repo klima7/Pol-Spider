{
 "cells": [
  {
   "cell_type": "code",
   "execution_count": 25,
   "metadata": {},
   "outputs": [],
   "source": [
    "from pathlib import Path\n",
    "import json\n",
    "import csv"
   ]
  },
  {
   "cell_type": "code",
   "execution_count": 5,
   "metadata": {},
   "outputs": [],
   "source": [
    "evaluation_dir = Path('/home/klima7/magisterka/Polish-Spider/experiments/rat-sql/rat-sql/logdir/eval/bert_pol_spider_mix/pol_spider')"
   ]
  },
  {
   "cell_type": "code",
   "execution_count": 23,
   "metadata": {},
   "outputs": [],
   "source": [
    "def get_accuracies(path):\n",
    "    evaluation_path = Path(path)\n",
    "    files = list(evaluation_path.glob('*.eval'))\n",
    "    \n",
    "    scores = {}\n",
    "    for file in files:\n",
    "        with open(file) as f:\n",
    "            data = json.load(f)\n",
    "        score = data['total_scores']['all']['exact']\n",
    "        start_idx = file.name.index('step') + 4\n",
    "        end_idx = file.name.index('.eval')\n",
    "        step = int(file.name[start_idx:end_idx])\n",
    "        if step > 80_000:\n",
    "            continue\n",
    "        scores[step] = score\n",
    "        \n",
    "    scores_sorted = sorted(list(scores.items()), key=lambda i: i[0], reverse=False)\n",
    "    return scores_sorted"
   ]
  },
  {
   "cell_type": "code",
   "execution_count": 26,
   "metadata": {},
   "outputs": [],
   "source": [
    "data = get_accuracies('/home/klima7/magisterka/Polish-Spider/experiments/rat-sql/rat-sql/logdir/eval/bert_pol_spider_mix/pol_spider')"
   ]
  },
  {
   "cell_type": "code",
   "execution_count": 27,
   "metadata": {},
   "outputs": [],
   "source": [
    "with open('data.csv', 'w') as file:\n",
    "    writer = csv.writer(file)\n",
    "    field = [\"step\", \"em\"]\n",
    "    \n",
    "    writer.writerow(field)\n",
    "    \n",
    "    for row in data:\n",
    "        writer.writerow(row)"
   ]
  }
 ],
 "metadata": {
  "kernelspec": {
   "display_name": "polish-spider",
   "language": "python",
   "name": "python3"
  },
  "language_info": {
   "codemirror_mode": {
    "name": "ipython",
    "version": 3
   },
   "file_extension": ".py",
   "mimetype": "text/x-python",
   "name": "python",
   "nbconvert_exporter": "python",
   "pygments_lexer": "ipython3",
   "version": "3.10.9"
  },
  "orig_nbformat": 4
 },
 "nbformat": 4,
 "nbformat_minor": 2
}
