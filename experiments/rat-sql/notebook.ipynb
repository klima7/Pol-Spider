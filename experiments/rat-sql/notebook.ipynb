{
 "cells": [
  {
   "cell_type": "code",
   "execution_count": 5,
   "metadata": {},
   "outputs": [],
   "source": [
    "import numpy as np"
   ]
  },
  {
   "cell_type": "code",
   "execution_count": 14,
   "metadata": {},
   "outputs": [],
   "source": [
    "qs = ['[CLS]', 'znajd', '##z', 'wszystkie', 'restauracje', 'zre', '##cen', '##zowane', 'przez', 'patrick', 'w', '\"', 'dallas', '\"', '[SEP]']\n",
    "cols = [\n",
    "    ['*', '[SEP]'],\n",
    "    ['oferta', '[SEP]'],\n",
    "    ['id', 'firmy', '[SEP]'],\n",
    "    ['nazwa', '[SEP]'],\n",
    "    ['pełny', 'adres', '[SEP]'],\n",
    "    ['miasto', '[SEP]'],\n",
    "    ['szeroko', '##sc', 'geograficzna', '[SEP]'],\n",
    "    ['długo', '##sc', 'geograficzna', '[SEP]'],\n",
    "    ['liczba', 'recenzji', '[SEP]'],\n",
    "    ['jest', 'otwarty', '[SEP]'],\n",
    "    ['ocena', '[SEP]'],\n",
    "    ['stan', '[SEP]'],\n",
    "    ['id', '[SEP]'],\n",
    "    ['id', 'firmy', '[SEP]'],\n",
    "    ['nazwa', 'kategorii', '[SEP]'],\n",
    "    ['uid', '[SEP]'],\n",
    "    ['id', 'uzy', '##tko', '##wni', '##ka', '[SEP]'],\n",
    "    ['imie', '[SEP]'],\n",
    "    ['id', 'zameldowania', '[SEP]'],\n",
    "    ['id', 'firmy', '[SEP]'],\n",
    "    ['liczba', '[SEP]'],\n",
    "    ['dzien', '[SEP]'],\n",
    "    ['id', '[SEP]'],\n",
    "    ['id', 'firmy', '[SEP]'],\n",
    "    ['nazwa', 'dzielnicy', '[SEP]'],\n",
    "    ['[SEP]'],\n",
    "    ['id', 'firmy', '[SEP]'],\n",
    "    ['id', 'uzy', '##tko', '##wni', '##ka', '[SEP]'],\n",
    "    ['ocena', '[SEP]'],\n",
    "    ['tekst', '[SEP]'],\n",
    "    ['rok', '[SEP]'],\n",
    "    ['miesia', '##c', '[SEP]'],\n",
    "    ['id', 'napi', '##wku', '[SEP]'],\n",
    "    ['id', 'firmy', '[SEP]'],\n",
    "    ['tekst', '[SEP]'],\n",
    "    ['id', 'uzy', '##tko', '##wni', '##ka', '[SEP]'],\n",
    "    ['polubi', '##en', '[SEP]'],\n",
    "    ['rok', '[SEP]'],\n",
    "    ['miesia', '##c', '[SEP]']\n",
    "]\n",
    "q_b = len(qs)"
   ]
  },
  {
   "cell_type": "code",
   "execution_count": 4,
   "metadata": {},
   "outputs": [],
   "source": [
    "list_1 = [q_b]     + [len(token_list) for token_list in cols[:-1]]\n",
    "list_2 = [q_b - 2] + [len(token_list) for token_list in cols]"
   ]
  },
  {
   "cell_type": "code",
   "execution_count": 11,
   "metadata": {},
   "outputs": [],
   "source": [
    "indexes_1 = np.cumsum(list_1)\n",
    "indexes_2 = np.cumsum(list_2)"
   ]
  },
  {
   "cell_type": "code",
   "execution_count": 12,
   "metadata": {},
   "outputs": [
    {
     "name": "stdout",
     "output_type": "stream",
     "text": [
      "15 - 13\n",
      "17 - 15\n",
      "19 - 17\n",
      "22 - 20\n",
      "24 - 22\n",
      "27 - 25\n",
      "29 - 27\n",
      "33 - 31\n",
      "37 - 35\n",
      "40 - 38\n",
      "43 - 41\n",
      "45 - 43\n",
      "47 - 45\n",
      "49 - 47\n",
      "52 - 50\n",
      "55 - 53\n",
      "57 - 55\n",
      "63 - 61\n",
      "65 - 63\n",
      "68 - 66\n",
      "71 - 69\n",
      "73 - 71\n",
      "75 - 73\n",
      "77 - 75\n",
      "80 - 78\n",
      "83 - 81\n",
      "84 - 82\n",
      "87 - 85\n",
      "93 - 91\n",
      "95 - 93\n",
      "97 - 95\n",
      "99 - 97\n",
      "102 - 100\n",
      "106 - 104\n",
      "109 - 107\n",
      "111 - 109\n",
      "117 - 115\n",
      "120 - 118\n",
      "122 - 120\n"
     ]
    }
   ],
   "source": [
    "for i1, i2 in zip(indexes_1, indexes_2):\n",
    "    print(i1, '-', i2)"
   ]
  },
  {
   "cell_type": "code",
   "execution_count": 7,
   "metadata": {},
   "outputs": [
    {
     "ename": "AssertionError",
     "evalue": "",
     "output_type": "error",
     "traceback": [
      "\u001b[0;31m---------------------------------------------------------------------------\u001b[0m",
      "\u001b[0;31mAssertionError\u001b[0m                            Traceback (most recent call last)",
      "Cell \u001b[0;32mIn[7], line 1\u001b[0m\n\u001b[0;32m----> 1\u001b[0m \u001b[39massert\u001b[39;00m (\u001b[39mall\u001b[39m(i2 \u001b[39m>\u001b[39m\u001b[39m=\u001b[39m i1 \u001b[39mfor\u001b[39;00m i1, i2 \u001b[39min\u001b[39;00m \u001b[39mzip\u001b[39m(indexes_1, indexes_2)))\n",
      "\u001b[0;31mAssertionError\u001b[0m: "
     ]
    }
   ],
   "source": [
    "assert (all(i2 >= i1 for i1, i2 in zip(indexes_1, indexes_2)))"
   ]
  }
 ],
 "metadata": {
  "kernelspec": {
   "display_name": "polish-spider",
   "language": "python",
   "name": "python3"
  },
  "language_info": {
   "codemirror_mode": {
    "name": "ipython",
    "version": 3
   },
   "file_extension": ".py",
   "mimetype": "text/x-python",
   "name": "python",
   "nbconvert_exporter": "python",
   "pygments_lexer": "ipython3",
   "version": "3.10.9"
  },
  "orig_nbformat": 4
 },
 "nbformat": 4,
 "nbformat_minor": 2
}
