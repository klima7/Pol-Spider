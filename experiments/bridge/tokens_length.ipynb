{
 "cells": [
  {
   "cell_type": "code",
   "execution_count": 16,
   "metadata": {},
   "outputs": [],
   "source": [
    "from statistics import mean\n",
    "from transformers import AutoTokenizer, BertTokenizer"
   ]
  },
  {
   "cell_type": "code",
   "execution_count": 18,
   "metadata": {},
   "outputs": [],
   "source": [
    "english_tokenizer = BertTokenizer.from_pretrained('bert-base-uncased')\n",
    "multi_tokenizer = BertTokenizer.from_pretrained('bert-base-multilingual-uncased')"
   ]
  },
  {
   "cell_type": "code",
   "execution_count": 17,
   "metadata": {},
   "outputs": [],
   "source": [
    "def get_avg_token_length(tokenizer):\n",
    "    tokens = [token.lstrip('##') for token in list(tokenizer.vocab.keys()) if (token[0]!='[' and token[-1]!=']')]\n",
    "    lengths = [len(token) for token in tokens]\n",
    "    return mean(lengths)"
   ]
  },
  {
   "cell_type": "code",
   "execution_count": 25,
   "metadata": {},
   "outputs": [
    {
     "name": "stdout",
     "output_type": "stream",
     "text": [
      "Mean english tokens length: 5.93\n",
      "Mean multi tokens length: 4.67\n",
      "Multi tokens shorter by 21.35%\n"
     ]
    }
   ],
   "source": [
    "english_length = get_avg_token_length(english_tokenizer)\n",
    "multi_length = get_avg_token_length(multi_tokenizer)\n",
    "\n",
    "print(f'Mean english tokens length: {english_length:.2f}')\n",
    "print(f'Mean multi tokens length: {multi_length:.2f}')\n",
    "\n",
    "percent = (multi_length * 100) / english_length\n",
    "percent_decrease = 100 - percent\n",
    "print(f'Multi tokens shorter by {percent_decrease:.2f}%')"
   ]
  },
  {
   "cell_type": "code",
   "execution_count": 20,
   "metadata": {},
   "outputs": [
    {
     "data": {
      "text/plain": [
       "(5.934146341463415, 4.667104715803805)"
      ]
     },
     "execution_count": 20,
     "metadata": {},
     "output_type": "execute_result"
    }
   ],
   "source": [
    "english_length, multi_length"
   ]
  }
 ],
 "metadata": {
  "kernelspec": {
   "display_name": "pytorch",
   "language": "python",
   "name": "python3"
  },
  "language_info": {
   "codemirror_mode": {
    "name": "ipython",
    "version": 3
   },
   "file_extension": ".py",
   "mimetype": "text/x-python",
   "name": "python",
   "nbconvert_exporter": "python",
   "pygments_lexer": "ipython3",
   "version": "3.10.9"
  },
  "orig_nbformat": 4
 },
 "nbformat": 4,
 "nbformat_minor": 2
}
