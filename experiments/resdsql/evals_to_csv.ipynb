{
 "cells": [
  {
   "cell_type": "code",
   "execution_count": 12,
   "metadata": {},
   "outputs": [],
   "source": [
    "from pathlib import Path\n",
    "import json\n",
    "import csv"
   ]
  },
  {
   "cell_type": "code",
   "execution_count": 15,
   "metadata": {},
   "outputs": [],
   "source": [
    "evals_dir = Path('resdsql\\eval_results\\mt5-base-polspider')\n",
    "\n",
    "paths = evals_dir.glob('*.txt')\n",
    "\n",
    "entries = []\n",
    "\n",
    "for path in paths:\n",
    "    name = path.name\n",
    "    start_idx = name.index('-')\n",
    "    end_idx = name.index('.')\n",
    "    step = name[start_idx+1:end_idx]\n",
    "    \n",
    "    with open(path) as f:\n",
    "        data = json.load(f)\n",
    "        entry = (int(step), data['EM'], data['EXEC'])\n",
    "        entries.append(entry)\n",
    "        \n",
    "    entries = sorted(entries)\n",
    "        \n",
    "    with open('data.csv', 'w', newline='') as f:\n",
    "        csv_writer = csv.writer(f)\n",
    "        csv_writer.writerow(['step', 'em', 'exec'])\n",
    "        for entry in entries:\n",
    "            csv_writer.writerow(entry)"
   ]
  }
 ],
 "metadata": {
  "kernelspec": {
   "display_name": "polish-spider",
   "language": "python",
   "name": "python3"
  },
  "language_info": {
   "codemirror_mode": {
    "name": "ipython",
    "version": 3
   },
   "file_extension": ".py",
   "mimetype": "text/x-python",
   "name": "python",
   "nbconvert_exporter": "python",
   "pygments_lexer": "ipython3",
   "version": "3.10.9"
  }
 },
 "nbformat": 4,
 "nbformat_minor": 2
}
