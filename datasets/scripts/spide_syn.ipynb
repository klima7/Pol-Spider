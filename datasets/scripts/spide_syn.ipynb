{
 "cells": [
  {
   "cell_type": "code",
   "execution_count": 1,
   "metadata": {},
   "outputs": [],
   "source": [
    "import json\n",
    "from pprint import pprint"
   ]
  },
  {
   "cell_type": "code",
   "execution_count": 10,
   "metadata": {},
   "outputs": [],
   "source": [
    "from common import load_json, save_json\n",
    "\n",
    "data = load_json('../components/samples/spider_syn/train_spider.json')\n",
    "\n",
    "new_samples = []\n",
    "for sample in data:\n",
    "    new_sample = {\n",
    "        \"db_id\": sample[\"db_id\"],\n",
    "        \"question_original\": sample[\"question_original_en\"],\n",
    "        \"question_original_pl\": sample[\"question_original_pl\"],\n",
    "        \"question\": sample[\"question_en\"],\n",
    "        \"question_pl\": sample[\"question_pl\"],\n",
    "        \"query\": sample[\"query_en\"],\n",
    "        \"query_pl\": sample[\"query_pl\"]\n",
    "    }\n",
    "    \n",
    "    new_samples.append(new_sample)"
   ]
  },
  {
   "cell_type": "code",
   "execution_count": 11,
   "metadata": {},
   "outputs": [],
   "source": [
    "save_json('../components/samples/spider_syn/train_spider.json', new_samples)"
   ]
  },
  {
   "cell_type": "code",
   "execution_count": 15,
   "metadata": {},
   "outputs": [],
   "source": [
    "SPIDER_SYN_PATH = '../../components/samples/spider_syn/train_spider.json'\n",
    "SPIDER_PATH = '../../components/samples/spider/train_spider.json'"
   ]
  },
  {
   "cell_type": "code",
   "execution_count": 42,
   "metadata": {},
   "outputs": [],
   "source": [
    "with open(SPIDER_SYN_PATH) as f:\n",
    "    spider_syn = json.load(f)"
   ]
  },
  {
   "cell_type": "code",
   "execution_count": 43,
   "metadata": {},
   "outputs": [],
   "source": [
    "with open(SPIDER_PATH) as f:\n",
    "    spider = json.load(f)"
   ]
  },
  {
   "cell_type": "code",
   "execution_count": 44,
   "metadata": {},
   "outputs": [],
   "source": [
    "new_samples = []\n",
    "\n",
    "for sample, org_sample in zip(spider_syn, spider):\n",
    "    new_sample = {\n",
    "        \"db_id\": sample[\"db_id\"],\n",
    "        \"question_original_en\": sample[\"SpiderQuestion\"],\n",
    "        \"question_original_pl\": \"...\",\n",
    "        \"question_en\": sample[\"SpiderSynQuestion\"],\n",
    "        \"question_pl\": \"...\",\n",
    "        \"query_en\": sample[\"query\"],\n",
    "        \"query_pl\": \"...\"\n",
    "    }\n",
    "    \n",
    "    new_samples.append(new_sample)"
   ]
  },
  {
   "cell_type": "code",
   "execution_count": 45,
   "metadata": {},
   "outputs": [],
   "source": [
    "with open(SPIDER_SYN_PATH, \"w\", encoding=\"utf-8\") as f:\n",
    "        json.dump(new_samples, f, indent=4, ensure_ascii=False)"
   ]
  },
  {
   "cell_type": "code",
   "execution_count": 6,
   "metadata": {},
   "outputs": [
    {
     "data": {
      "text/plain": [
       "(7000, 7000)"
      ]
     },
     "execution_count": 6,
     "metadata": {},
     "output_type": "execute_result"
    }
   ],
   "source": [
    "len(spider_syn), len(spider)"
   ]
  },
  {
   "attachments": {},
   "cell_type": "markdown",
   "metadata": {},
   "source": [
    "## Translation"
   ]
  },
  {
   "cell_type": "code",
   "execution_count": 16,
   "metadata": {},
   "outputs": [],
   "source": [
    "from samples import translate_question"
   ]
  },
  {
   "cell_type": "code",
   "execution_count": 17,
   "metadata": {},
   "outputs": [],
   "source": [
    "with open(SPIDER_SYN_PATH) as f:\n",
    "    spider_syn = json.load(f)"
   ]
  },
  {
   "cell_type": "code",
   "execution_count": 18,
   "metadata": {},
   "outputs": [],
   "source": [
    "questions = [sample['question_en'] for sample in spider_syn]"
   ]
  },
  {
   "cell_type": "code",
   "execution_count": 19,
   "metadata": {},
   "outputs": [
    {
     "data": {
      "text/plain": [
       "499149"
      ]
     },
     "execution_count": 19,
     "metadata": {},
     "output_type": "execute_result"
    }
   ],
   "source": [
    "len(''.join(questions))"
   ]
  }
 ],
 "metadata": {
  "kernelspec": {
   "display_name": "polish-spider",
   "language": "python",
   "name": "python3"
  },
  "language_info": {
   "codemirror_mode": {
    "name": "ipython",
    "version": 3
   },
   "file_extension": ".py",
   "mimetype": "text/x-python",
   "name": "python",
   "nbconvert_exporter": "python",
   "pygments_lexer": "ipython3",
   "version": "3.10.9"
  },
  "orig_nbformat": 4
 },
 "nbformat": 4,
 "nbformat_minor": 2
}
