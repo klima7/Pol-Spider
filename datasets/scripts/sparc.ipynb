{
 "cells": [
  {
   "cell_type": "code",
   "execution_count": 4,
   "metadata": {},
   "outputs": [],
   "source": [
    "from common import load_json, save_json\n",
    "from translation.samples import translate_question, translate_query\n",
    "from tqdm import tqdm"
   ]
  },
  {
   "attachments": {},
   "cell_type": "markdown",
   "metadata": {},
   "source": [
    "## Preparing"
   ]
  },
  {
   "cell_type": "code",
   "execution_count": 23,
   "metadata": {},
   "outputs": [],
   "source": [
    "LOAD_PATH = '/home/klima7/magisterka/Polish-Spider/datasets/components/samples/sparc_wc/train_raw.json'\n",
    "SAVE_PATH = '/home/klima7/magisterka/Polish-Spider/datasets/components/samples/sparc_wc/train.json'"
   ]
  },
  {
   "cell_type": "code",
   "execution_count": 24,
   "metadata": {},
   "outputs": [],
   "source": [
    "sparc_raw = load_json(LOAD_PATH)"
   ]
  },
  {
   "cell_type": "code",
   "execution_count": 26,
   "metadata": {},
   "outputs": [
    {
     "name": "stdout",
     "output_type": "stream",
     "text": [
      "Skipping invalid sample\n",
      "Skipping invalid sample\n",
      "Skipping invalid sample\n",
      "Skipping invalid sample\n"
     ]
    }
   ],
   "source": [
    "sparc_new = []\n",
    "\n",
    "for sample in sparc_raw:\n",
    "    if len(sample['interaction']) == 0:\n",
    "        print('Skipping invalid sample')\n",
    "        continue\n",
    "    \n",
    "    db_id = sample['database_id']\n",
    "    question = sample['interaction'][0]['utterance']\n",
    "    query = sample['interaction'][0]['query']\n",
    "    \n",
    "    sample_new = {\n",
    "        'db_id': db_id,\n",
    "        'question': question,\n",
    "        'question_pl': \"...\",\n",
    "        'query': query,\n",
    "        'query_pl': '...'\n",
    "    }\n",
    "    \n",
    "    sparc_new.append(sample_new)"
   ]
  },
  {
   "cell_type": "code",
   "execution_count": 27,
   "metadata": {},
   "outputs": [],
   "source": [
    "save_json(SAVE_PATH, sparc_new)"
   ]
  },
  {
   "attachments": {},
   "cell_type": "markdown",
   "metadata": {},
   "source": [
    "## Translation"
   ]
  },
  {
   "cell_type": "code",
   "execution_count": 9,
   "metadata": {},
   "outputs": [],
   "source": [
    "PATH = '/home/klima7/magisterka/Polish-Spider/datasets/components/samples/sparc_wc/train.json'"
   ]
  },
  {
   "cell_type": "code",
   "execution_count": 10,
   "metadata": {},
   "outputs": [],
   "source": [
    "samples = load_json(PATH)"
   ]
  },
  {
   "cell_type": "code",
   "execution_count": 11,
   "metadata": {},
   "outputs": [
    {
     "name": "stderr",
     "output_type": "stream",
     "text": [
      "100%|██████████| 3030/3030 [06:27<00:00,  7.81it/s]\n"
     ]
    }
   ],
   "source": [
    "for i, sample in enumerate(tqdm(samples)):\n",
    "    sample['question_pl'] = translate_question(sample['question'])\n",
    "    if i % 20 == 0:\n",
    "        save_json(PATH, samples)\n",
    "save_json(PATH, samples)"
   ]
  }
 ],
 "metadata": {
  "kernelspec": {
   "display_name": "polish-spider",
   "language": "python",
   "name": "python3"
  },
  "language_info": {
   "codemirror_mode": {
    "name": "ipython",
    "version": 3
   },
   "file_extension": ".py",
   "mimetype": "text/x-python",
   "name": "python",
   "nbconvert_exporter": "python",
   "pygments_lexer": "ipython3",
   "version": "3.10.9"
  },
  "orig_nbformat": 4
 },
 "nbformat": 4,
 "nbformat_minor": 2
}
