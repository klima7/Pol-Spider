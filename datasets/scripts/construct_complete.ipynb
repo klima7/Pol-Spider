{
 "cells": [
  {
   "cell_type": "code",
   "execution_count": 623,
   "metadata": {},
   "outputs": [],
   "source": [
    "import re\n",
    "import json\n",
    "import shutil\n",
    "\n",
    "import sqlparse\n",
    "from sqlparse import sql\n",
    "import sqlglot\n",
    "import sqlglot.expressions as exp\n",
    "import spacy\n",
    "from tqdm import tqdm\n",
    "from pathlib import Path\n",
    "\n",
    "from process_sql import create_sql, SQLParseException"
   ]
  },
  {
   "cell_type": "code",
   "execution_count": 3,
   "metadata": {},
   "outputs": [],
   "source": [
    "# Loading whole english spider dataset for further tests\n",
    "spider_en = []\n",
    "with open('../../spider-en/train_spider.json') as json_data:\n",
    "    spider_en.extend(json.load(json_data))\n",
    "with open('../../spider-en/train_others.json') as json_data:\n",
    "    spider_en.extend(json.load(json_data))\n",
    "with open('../../spider-en/dev.json') as json_data:\n",
    "    spider_en.extend(json.load(json_data))"
   ]
  },
  {
   "attachments": {},
   "cell_type": "markdown",
   "metadata": {},
   "source": [
    "## Query toks no value"
   ]
  },
  {
   "cell_type": "code",
   "execution_count": 3,
   "metadata": {},
   "outputs": [],
   "source": [
    "def tokenize_query_no_value(query):\n",
    "    statement = sqlparse.parse(query)[0]\n",
    "    \n",
    "    value_tokens = [token for token in statement.flatten() if str(token.ttype).startswith('Token.Literal')]\n",
    "    for token in value_tokens:\n",
    "        token.value = 'value'\n",
    "        \n",
    "    coarse_tokens =  [str(token).lower() for token in statement.flatten() if str(token).strip() != '']\n",
    "    \n",
    "    fine_tokens = []\n",
    "    for token in coarse_tokens:\n",
    "        if len(token.split(' ')) > 1:\n",
    "            fine_tokens.extend(token.split(' '))\n",
    "        elif token == '!=':\n",
    "            fine_tokens.extend(['!', '='])\n",
    "        elif token == '>=':\n",
    "            fine_tokens.extend(['>', '='])\n",
    "        elif token == '<=':\n",
    "            fine_tokens.extend(['<', '='])\n",
    "        elif token == ';':\n",
    "            continue\n",
    "        else:\n",
    "            fine_tokens.append(token)\n",
    "    return fine_tokens"
   ]
  },
  {
   "attachments": {},
   "cell_type": "markdown",
   "metadata": {},
   "source": [
    "### Test"
   ]
  },
  {
   "cell_type": "code",
   "execution_count": null,
   "metadata": {},
   "outputs": [],
   "source": [
    "# Compare created tokenization function with tokens from oryginal spider\n",
    "discrepancies = 0\n",
    "\n",
    "for sample in spider_en:\n",
    "    my_tokens = tokenize_query_no_value(sample['query'])\n",
    "    oryginal_tokens = sample['query_toks_no_value']\n",
    "    if my_tokens != oryginal_tokens:\n",
    "        discrepancies += 1\n",
    "        print(sample['query'])\n",
    "        print(my_tokens)\n",
    "        print(oryginal_tokens)\n",
    "        print()\n",
    "        \n",
    "print(discrepancies, 'discrepancies')\n",
    "# found 18 discrepancies"
   ]
  },
  {
   "attachments": {},
   "cell_type": "markdown",
   "metadata": {},
   "source": [
    "## Query toks"
   ]
  },
  {
   "cell_type": "code",
   "execution_count": 4,
   "metadata": {},
   "outputs": [],
   "source": [
    "nlp_pl = spacy.load(\"pl_core_news_md\")\n",
    "\n",
    "def tokenize_polish(text):\n",
    "    return [str(token) for token in nlp_pl(text)]"
   ]
  },
  {
   "cell_type": "code",
   "execution_count": 5,
   "metadata": {},
   "outputs": [],
   "source": [
    "def tokenize_statement(root, tokens=None):\n",
    "    if tokens is None:\n",
    "        tokens = []\n",
    "    \n",
    "    # Create tokens from elements which we can't divide\n",
    "    if not hasattr(root, 'tokens'):\n",
    "        token = str(root).strip()\n",
    "        if token == '' or token == ';':\n",
    "            pass\n",
    "        elif len(token.split(' ')) > 1:\n",
    "            tokens.extend(token.split(' '))\n",
    "        elif token == '!=':\n",
    "            tokens.extend(['!', '='])\n",
    "        elif token == '>=':\n",
    "            tokens.extend(['>', '='])\n",
    "        elif token == '<=':\n",
    "            tokens.extend(['<', '='])\n",
    "        else:\n",
    "            tokens.append(str(root))\n",
    "    \n",
    "    # Not split identifiers like \"T1.name\" into separate tokens\n",
    "    elif isinstance(root, sql.Identifier) and '.' in str(root):\n",
    "        tokens.append(str(root))\n",
    "        \n",
    "    # Tokenize strings using polish tokenizer\n",
    "    elif isinstance(root, sql.Identifier) and len(root.tokens) == 1 and str(root.tokens[0].ttype) == 'Token.Literal.String.Symbol':\n",
    "        tokens.extend(tokenize_polish(str(root)))\n",
    "        \n",
    "    # Tokenize other compound elements recursively\n",
    "    else:\n",
    "        for token in root.tokens:\n",
    "            tokenize_statement(token, tokens)\n",
    "            \n",
    "    return tokens"
   ]
  },
  {
   "cell_type": "code",
   "execution_count": 6,
   "metadata": {},
   "outputs": [],
   "source": [
    "def tokenize_query(query):\n",
    "    statement = sqlparse.parse(query)[0]\n",
    "    tokens = tokenize_statement(statement)\n",
    "    return tokens"
   ]
  },
  {
   "attachments": {},
   "cell_type": "markdown",
   "metadata": {},
   "source": [
    "### Test"
   ]
  },
  {
   "cell_type": "code",
   "execution_count": null,
   "metadata": {},
   "outputs": [],
   "source": [
    "# Compare created tokenization function with tokens from oryginal spider\n",
    "discrepancies = 0\n",
    "\n",
    "for sample in spider_en:\n",
    "    my_tokens = tokenize_query(sample['query'])\n",
    "    oryginal_tokens = sample['query_toks']\n",
    "    if my_tokens != oryginal_tokens:\n",
    "        discrepancies += 1\n",
    "        print(sample['query'])\n",
    "        print(my_tokens)\n",
    "        print(oryginal_tokens)\n",
    "        print()\n",
    "        \n",
    "print(discrepancies, 'discrepancies')\n",
    "# found 4754 discrepancies"
   ]
  },
  {
   "attachments": {},
   "cell_type": "markdown",
   "metadata": {},
   "source": [
    "## Question tokenization"
   ]
  },
  {
   "cell_type": "code",
   "execution_count": 7,
   "metadata": {},
   "outputs": [],
   "source": [
    "def tokenize_question(question):\n",
    "    return tokenize_polish(question)"
   ]
  },
  {
   "attachments": {},
   "cell_type": "markdown",
   "metadata": {},
   "source": [
    "## Completing dataset"
   ]
  },
  {
   "cell_type": "code",
   "execution_count": 8,
   "metadata": {},
   "outputs": [],
   "source": [
    "def add_calculated_attributes_to_samples(src_path, tgt_path, tables_path):\n",
    "    with open(src_path) as f:\n",
    "        samples = json.load(f)\n",
    "        \n",
    "    new_samples = []\n",
    "        \n",
    "    for sample in tqdm(samples):\n",
    "        try:\n",
    "            sql = create_sql(sample['db_id'], sample['query_pl'], tables_path)\n",
    "        except SQLParseException:\n",
    "            # skip samples with invalid sqls\n",
    "            print('Skipping sample')\n",
    "        \n",
    "        new_sample = {\n",
    "            'db_id': sample['db_id'],\n",
    "            'question': sample['question_pl'],\n",
    "            'question_toks': tokenize_question(sample['question_pl']),\n",
    "            'query': sample['query_pl'],\n",
    "            'query_toks': tokenize_query(sample['query_pl']),\n",
    "            'query_toks_no_value': tokenize_query_no_value(sample['query_pl']),\n",
    "            'sql': sql\n",
    "        }\n",
    "        \n",
    "        new_samples.append(new_sample)\n",
    "        \n",
    "    with open(tgt_path, 'w') as f:\n",
    "        json.dump(new_samples, f, indent=4, ensure_ascii=False)"
   ]
  },
  {
   "cell_type": "code",
   "execution_count": 9,
   "metadata": {},
   "outputs": [],
   "source": [
    "def create_gold_sql(src_files, tgt_file):\n",
    "    with open(tgt_file, 'w') as f:\n",
    "        for src_file in src_files:\n",
    "            with open(src_file) as g:\n",
    "                for sample in json.load(g):\n",
    "                    f.write(f\"{sample['query_pl']}\\t{sample['db_id']}\\n\")"
   ]
  },
  {
   "cell_type": "code",
   "execution_count": 418,
   "metadata": {},
   "outputs": [],
   "source": [
    "def create_tables_translation_dict(tables_names_path):\n",
    "    with open(tables_names_path) as f:\n",
    "        tables_names = json.load(f)\n",
    "        \n",
    "    tables_trans_dict = {}\n",
    "    for entry in tables_names:\n",
    "        if entry['db_id'] not in tables_trans_dict:\n",
    "            tables_trans_dict[entry['db_id']] = {}\n",
    "        tables_trans_dict[entry['db_id']][entry['name_original'].lower()] = {'name': entry['name_pl'], 'name_original': entry['name_original_pl']}\n",
    "        \n",
    "    return tables_trans_dict"
   ]
  },
  {
   "cell_type": "code",
   "execution_count": 416,
   "metadata": {},
   "outputs": [],
   "source": [
    "def create_columns_translation_dict(columns_names_path):\n",
    "    with open(columns_names_path) as f:\n",
    "        columns_names = json.load(f)\n",
    "        \n",
    "    columns_trains_dict = {}\n",
    "    for entry in columns_names:\n",
    "        if entry['db_id'] not in columns_trains_dict:\n",
    "            columns_trains_dict[entry['db_id']] = {}\n",
    "        db_stuff = columns_trains_dict[entry['db_id']]\n",
    "        if entry['table_name_original'].lower() not in db_stuff:\n",
    "            db_stuff[entry['table_name_original'].lower()] = {}\n",
    "        table_stuff = db_stuff[entry['table_name_original'].lower()]\n",
    "        table_stuff[entry['column_name_original'].lower()] = {'name': entry['column_name_pl'], 'name_original': entry['column_name_original_pl']}\n",
    "        \n",
    "    return columns_trains_dict"
   ]
  },
  {
   "cell_type": "code",
   "execution_count": 434,
   "metadata": {},
   "outputs": [],
   "source": [
    "# tables_translation_dict = create_tables_translation_dict('../auxiliary/translated_schema/tables_names.json')\n",
    "columns_translation_dict = create_columns_translation_dict('../auxiliary/translated_schema/columns_names.json')"
   ]
  },
  {
   "cell_type": "code",
   "execution_count": 437,
   "metadata": {},
   "outputs": [
    {
     "data": {
      "text/plain": [
       "{'perpetrator_id': {'name': 'id sprawcy', 'name_original': 'Sprawca_ID'},\n",
       " 'people_id': {'name': 'id osoby', 'name_original': 'Ludzie_ID'},\n",
       " 'date': {'name': 'data', 'name_original': 'Data'},\n",
       " 'year': {'name': 'rok', 'name_original': 'Rok'},\n",
       " 'location': {'name': 'lokalizacja', 'name_original': 'Lokalizacja'},\n",
       " 'country': {'name': 'kraj', 'name_original': 'Kraj'},\n",
       " 'killed': {'name': 'zabity', 'name_original': 'Zabity'},\n",
       " 'injured': {'name': 'obrażenia', 'name_original': 'Obrażenia'}}"
      ]
     },
     "execution_count": 437,
     "metadata": {},
     "output_type": "execute_result"
    }
   ],
   "source": [
    "columns_translation_dict['perpetrator']['perpetrator']"
   ]
  },
  {
   "cell_type": "code",
   "execution_count": 116,
   "metadata": {},
   "outputs": [],
   "source": [
    "def translate_tables(tables_path, tables_names_path, columns_names_path, output_path):\n",
    "    tables_trans_dict = create_tables_translation_dict(tables_names_path)\n",
    "    columns_trans_dict = create_columns_translation_dict(columns_names_path)\n",
    "        \n",
    "    with open(tables_path) as f:\n",
    "        tables_json = json.load(f)\n",
    "        \n",
    "    # perform translation\n",
    "    for db in tables_json:\n",
    "        db_id = db['db_id']\n",
    "        \n",
    "        # translate columns\n",
    "        assert db['column_names'][0][1] == '*'\n",
    "        assert db['column_names_original'][0][1] == '*'\n",
    "        for i in range(1, len(db['column_names_original'])):\n",
    "            table_idx, column_name_original = db['column_names_original'][i]\n",
    "            table_name = db['table_names_original'][table_idx]\n",
    "            translations = columns_trans_dict[db_id][table_name][column_name_original]\n",
    "            db['column_names_original'][i][1] = translations['name_original']\n",
    "            db['column_names'][i][1] = translations['name']\n",
    "        \n",
    "        # translate tables\n",
    "        for i in range(len(db['table_names_original'])):\n",
    "            table_name = db['table_names_original'][i]\n",
    "            translations = tables_trans_dict[db_id][table_name]\n",
    "            db['table_names_original'][i] = translations['name']\n",
    "            db['table_names'][i] = translations['name_original']\n",
    "        \n",
    "    # save translated\n",
    "    with open(output_path, 'w') as f:\n",
    "        json.dump(tables_json, f, indent=4, ensure_ascii=False)"
   ]
  },
  {
   "cell_type": "code",
   "execution_count": null,
   "metadata": {},
   "outputs": [],
   "source": [
    "x = translate_tables(\n",
    "    '../auxiliary/translated_schema/tables.json',\n",
    "    '../auxiliary/translated_schema/tables_names.json',\n",
    "    '../auxiliary/translated_schema/columns_names.json',\n",
    "    '../auxiliary/translated_likes/tables.json'\n",
    ")"
   ]
  },
  {
   "attachments": {},
   "cell_type": "markdown",
   "metadata": {},
   "source": [
    "### Experiments"
   ]
  },
  {
   "attachments": {},
   "cell_type": "markdown",
   "metadata": {},
   "source": [
    "Nazwy kolumn:\n",
    "- po select\n",
    "    - w funkcjach agregacyjnych (min, max, avg)\n",
    "- w porównaniach (where, on)\n",
    "- po order by\n",
    "\n",
    "Nazwy tabel:\n",
    "- tam gdzie nazwy kolumn\n",
    "- po from\n",
    "- po join"
   ]
  },
  {
   "cell_type": "code",
   "execution_count": 325,
   "metadata": {},
   "outputs": [],
   "source": [
    "q1 = \"select horsepower ,  T1.Make FROM CAR_NAMES AS T1 JOIN CARS_DATA AS T2 ON T1.MakeId  =  T2.Id WHERE T2.cylinders  =  3 ORDER BY T2.horsepower DESC LIMIT 1;\"\n",
    "q2 = \"SELECT LOCATION ,  name FROM stadium WHERE capacity BETWEEN 5000 AND 10000\"\n",
    "q3 = \"select max(capacity) from stadium as ST\""
   ]
  },
  {
   "cell_type": "code",
   "execution_count": 558,
   "metadata": {},
   "outputs": [
    {
     "data": {
      "text/plain": [
       "[('screen_mode', 'T1'), ('phone', 'T2')]"
      ]
     },
     "execution_count": 558,
     "metadata": {},
     "output_type": "execute_result"
    }
   ],
   "source": [
    "def get_tables_aliasing(sql):\n",
    "    aliasing = []\n",
    "    tokens = [token for token in sqlparse.parse(sql)[0].flatten() if str(token).strip() != '']\n",
    "    for i in range(1, len(tokens)-1):\n",
    "        prev, current, next = tokens[i-1:i+2]\n",
    "        if str(current).upper() == 'AS':\n",
    "            assert str(current.ttype) == 'Token.Keyword'\n",
    "            aliasing.append((str(prev), str(next))) \n",
    "    return aliasing\n",
    "\n",
    "# get_tables_aliasing(q1)\n",
    "\n",
    "q5 = 'SELECT T1.name ,  T1.id FROM station AS T1 JOIN status AS T2 ON T1.id  =  T2.station_id GROUP BY T2.station_id HAVING avg(T2.bikes_available)  >  14 UNION SELECT name ,  id FROM station WHERE installation_date LIKE \"12/%\"'\n",
    "q6 = 'SELECT count(*) FROM station AS T1 JOIN trip AS T2 JOIN station AS T3 JOIN trip AS T4 ON T1.id  =  T2.start_station_id AND T2.id  =  T4.id AND T3.id  =  T4.end_station_id WHERE T1.city  =  \"Mountain View\" AND T3.city  =  \"Palo Alto\"'\n",
    "q7 = 'SELECT DISTINCT T2.Hardware_Model_name FROM screen_mode AS T1 JOIN phone AS T2 ON T1.Graphics_mode = T2.screen_mode WHERE T1.Type  =  \"Graphics\" OR t2.Company_name  =  \"Nokia Corporation\"'\n",
    "get_tables_aliasing(q7)"
   ]
  },
  {
   "cell_type": "code",
   "execution_count": 557,
   "metadata": {},
   "outputs": [
    {
     "data": {
      "text/plain": [
       "{'CAR_NAMES': 'T1', 'CARS_DATA': 'T2'}"
      ]
     },
     "execution_count": 557,
     "metadata": {},
     "output_type": "execute_result"
    }
   ],
   "source": [
    "def get_tables_aliasing(sql):\n",
    "    parsed = sqlglot.parse_one(sql)\n",
    "    aliasing = {table.this.output_name: table.alias for table in parsed.find_all(exp.Table)}\n",
    "    return aliasing\n",
    "\n",
    "get_tables_aliasing(q1)"
   ]
  },
  {
   "cell_type": "code",
   "execution_count": 536,
   "metadata": {},
   "outputs": [
    {
     "data": {
      "text/plain": [
       "{'station': 'T3', 'trip': 'T4'}"
      ]
     },
     "execution_count": 536,
     "metadata": {},
     "output_type": "execute_result"
    }
   ],
   "source": [
    "q5 = 'SELECT T1.name ,  T1.id FROM station AS T1 JOIN status AS T2 ON T1.id  =  T2.station_id GROUP BY T2.station_id HAVING avg(T2.bikes_available)  >  14 UNION SELECT name ,  id FROM station WHERE installation_date LIKE \"12/%\"'\n",
    "q6 = 'SELECT count(*) FROM station AS T1 JOIN trip AS T2 JOIN station AS T3 JOIN trip AS T4 ON T1.id  =  T2.start_station_id AND T2.id  =  T4.id AND T3.id  =  T4.end_station_id WHERE T1.city  =  \"Mountain View\" AND T3.city  =  \"Palo Alto\"'\n",
    "get_tables_aliasing(q6)"
   ]
  },
  {
   "cell_type": "code",
   "execution_count": 352,
   "metadata": {},
   "outputs": [
    {
     "data": {
      "text/plain": [
       "['CAR_NAMES', 'CARS_DATA']"
      ]
     },
     "execution_count": 352,
     "metadata": {},
     "output_type": "execute_result"
    }
   ],
   "source": [
    "def find_tables(sql):\n",
    "    parsed = sqlglot.parse_one(sql)\n",
    "    tables = [table.this.output_name for table in parsed.find_all(exp.Table)]\n",
    "    return tables\n",
    "\n",
    "find_tables(q1)"
   ]
  },
  {
   "cell_type": "code",
   "execution_count": 450,
   "metadata": {},
   "outputs": [],
   "source": [
    "q4 = \"SELECT student_id FROM students WHERE student_id NOT IN (SELECT student_id FROM student_course_attendance)\""
   ]
  },
  {
   "cell_type": "code",
   "execution_count": 385,
   "metadata": {},
   "outputs": [
    {
     "data": {
      "text/plain": [
       "['horsepower', 'Make', 'MakeId', 'Id', 'cylinders', 'horsepower']"
      ]
     },
     "execution_count": 385,
     "metadata": {},
     "output_type": "execute_result"
    }
   ],
   "source": [
    "def find_columns(sql):\n",
    "    parsed = sqlglot.parse_one(sql)\n",
    "    columns = [col.output_name for col in parsed.find_all(exp.Column)]\n",
    "    return columns\n",
    "\n",
    "find_columns(q1)"
   ]
  },
  {
   "cell_type": "code",
   "execution_count": null,
   "metadata": {},
   "outputs": [],
   "source": [
    "def translate_query(query, db_id, tables_trans_dict, columns_trans_dict):\n",
    "    tables_trans_dict = tables_trans_dict[db_id]\n",
    "    columns_trans_dict = columns_trans_dict[db_id]\n",
    "    \n",
    "    aliasing_rev = {new.lower(): old for old, new in get_tables_aliasing(query)}\n",
    "    \n",
    "    columns_names = find_columns(query)\n",
    "    tables_names = find_tables(query)\n",
    "    \n",
    "    statement = sqlparse.parse(query)[0]\n",
    "    tokens = [token for token in statement.flatten() if str(token).strip() != '']\n",
    "\n",
    "    for i in reversed(range(len(tokens))):\n",
    "        if str(tokens[i].ttype).startswith('Token.Literal.String'): # skip if token is string value\n",
    "            continue\n",
    "        \n",
    "        if str(tokens[i]) in columns_names:\n",
    "            table_name = str(tokens[i-2]) if i >= 2 and str(tokens[i-1]) == '.' else None\n",
    "            if table_name is not None:\n",
    "                table_name = aliasing_rev.get(table_name.lower(), table_name)\n",
    "            \n",
    "            if table_name is None:\n",
    "                possible_table_names = [table_name for table_name, table_trans in columns_trans_dict.items() if table_name in [x.lower() for x in tables_names] and str(tokens[i]).lower() in table_trans]\n",
    "                assert len(possible_table_names) > 0\n",
    "                if len(possible_table_names) > 1 and not( ' union ' not in query.lower() and ' except ' not in query.lower() and ' intersect ' not in query.lower()):\n",
    "                    print(query, '|', str(tokens[i]), f'({db_id})')\n",
    "                table_name = possible_table_names[0]\n",
    "            column_name_pl = columns_trans_dict[table_name.lower()][str(tokens[i]).lower()]['name_original']\n",
    "            tokens[i].value = column_name_pl\n",
    "            \n",
    "        elif str(tokens[i]) in tables_names:\n",
    "            table_name_pl = tables_trans_dict[str(tokens[i]).lower()]['name_original']\n",
    "            tokens[i].value = table_name_pl\n",
    "            \n",
    "    return str(statement)\n",
    "                \n",
    "\n",
    "q0 = \"1SELECT student_id FROM student_course_registrations UNION 2SELECT student_id FROM student_course_attendance intersect 3SELECT student_id FROM student_course_attendance\"\n",
    "translate_query(\n",
    "    q0,\n",
    "    \"student_assessment\",\n",
    "    create_tables_translation_dict('../auxiliary/translated_schema/tables_names.json'),\n",
    "    create_columns_translation_dict('../auxiliary/translated_schema/columns_names.json'),\n",
    ")"
   ]
  },
  {
   "cell_type": "code",
   "execution_count": 685,
   "metadata": {},
   "outputs": [],
   "source": [
    "q0 = \"1SELECT student_id FROM student_course_registrations\""
   ]
  },
  {
   "cell_type": "code",
   "execution_count": 686,
   "metadata": {},
   "outputs": [
    {
     "data": {
      "text/plain": [
       "('1SELECT student_id FROM student_course_registrations', None, None)"
      ]
     },
     "execution_count": 686,
     "metadata": {},
     "output_type": "execute_result"
    }
   ],
   "source": [
    "match = re.fullmatch(r'^(.+?)(?: (UNION|INTERSECT|EXCEPT) (.+?))*$', q0, flags=re.IGNORECASE)\n",
    "match.groups()"
   ]
  },
  {
   "cell_type": "code",
   "execution_count": 648,
   "metadata": {},
   "outputs": [
    {
     "data": {
      "text/plain": [
       "['__class__',\n",
       " '__class_getitem__',\n",
       " '__copy__',\n",
       " '__deepcopy__',\n",
       " '__delattr__',\n",
       " '__dir__',\n",
       " '__doc__',\n",
       " '__eq__',\n",
       " '__format__',\n",
       " '__ge__',\n",
       " '__getattribute__',\n",
       " '__getitem__',\n",
       " '__gt__',\n",
       " '__hash__',\n",
       " '__init__',\n",
       " '__init_subclass__',\n",
       " '__le__',\n",
       " '__lt__',\n",
       " '__module__',\n",
       " '__ne__',\n",
       " '__new__',\n",
       " '__reduce__',\n",
       " '__reduce_ex__',\n",
       " '__repr__',\n",
       " '__setattr__',\n",
       " '__sizeof__',\n",
       " '__str__',\n",
       " '__subclasshook__',\n",
       " 'end',\n",
       " 'endpos',\n",
       " 'expand',\n",
       " 'group',\n",
       " 'groupdict',\n",
       " 'groups',\n",
       " 'lastgroup',\n",
       " 'lastindex',\n",
       " 'pos',\n",
       " 're',\n",
       " 'regs',\n",
       " 'span',\n",
       " 'start',\n",
       " 'string']"
      ]
     },
     "execution_count": 648,
     "metadata": {},
     "output_type": "execute_result"
    }
   ],
   "source": [
    "dir(match)"
   ]
  },
  {
   "cell_type": "code",
   "execution_count": 613,
   "metadata": {},
   "outputs": [],
   "source": [
    "def translate_samples(samples, tables_translation_dict, columns_translation_dict):\n",
    "    for sample in samples:\n",
    "        query_pl = translate_query(sample['query'], sample['db_id'], tables_translation_dict, columns_translation_dict)\n",
    "        sample['query'] = query_pl\n",
    "    return samples"
   ]
  },
  {
   "cell_type": "code",
   "execution_count": 619,
   "metadata": {},
   "outputs": [
    {
     "name": "stdout",
     "output_type": "stream",
     "text": [
      "SELECT student_id FROM student_course_registrations UNION SELECT student_id FROM student_course_attendance | student_id (student_assessment)\n",
      "SELECT student_id FROM student_course_registrations UNION SELECT student_id FROM student_course_attendance | student_id (student_assessment)\n",
      "SELECT student_id FROM student_course_registrations UNION SELECT student_id FROM student_course_attendance | student_id (student_assessment)\n",
      "SELECT student_id FROM student_course_registrations UNION SELECT student_id FROM student_course_attendance | student_id (student_assessment)\n",
      "SELECT course_id FROM student_course_registrations WHERE student_id = 121 UNION SELECT course_id FROM student_course_attendance WHERE student_id = 121 | student_id (student_assessment)\n",
      "SELECT course_id FROM student_course_registrations WHERE student_id = 121 UNION SELECT course_id FROM student_course_attendance WHERE student_id = 121 | course_id (student_assessment)\n",
      "SELECT course_id FROM student_course_registrations WHERE student_id = 121 UNION SELECT course_id FROM student_course_attendance WHERE student_id = 121 | student_id (student_assessment)\n",
      "SELECT course_id FROM student_course_registrations WHERE student_id = 121 UNION SELECT course_id FROM student_course_attendance WHERE student_id = 121 | course_id (student_assessment)\n",
      "SELECT course_id FROM student_course_registrations WHERE student_id = 121 UNION SELECT course_id FROM student_course_attendance WHERE student_id = 121 | student_id (student_assessment)\n",
      "SELECT course_id FROM student_course_registrations WHERE student_id = 121 UNION SELECT course_id FROM student_course_attendance WHERE student_id = 121 | course_id (student_assessment)\n",
      "SELECT course_id FROM student_course_registrations WHERE student_id = 121 UNION SELECT course_id FROM student_course_attendance WHERE student_id = 121 | student_id (student_assessment)\n",
      "SELECT course_id FROM student_course_registrations WHERE student_id = 121 UNION SELECT course_id FROM student_course_attendance WHERE student_id = 121 | course_id (student_assessment)\n",
      "SELECT zip_code FROM weather GROUP BY zip_code HAVING avg(mean_humidity)  <  70 INTERSECT SELECT zip_code FROM trip GROUP BY zip_code HAVING count(*)  >=  100 | zip_code (bike_1)\n",
      "SELECT zip_code FROM weather GROUP BY zip_code HAVING avg(mean_humidity)  <  70 INTERSECT SELECT zip_code FROM trip GROUP BY zip_code HAVING count(*)  >=  100 | zip_code (bike_1)\n",
      "SELECT zip_code FROM weather GROUP BY zip_code HAVING avg(mean_humidity)  <  70 INTERSECT SELECT zip_code FROM trip GROUP BY zip_code HAVING count(*)  >=  100 | zip_code (bike_1)\n",
      "SELECT zip_code FROM weather GROUP BY zip_code HAVING avg(mean_humidity)  <  70 INTERSECT SELECT zip_code FROM trip GROUP BY zip_code HAVING count(*)  >=  100 | zip_code (bike_1)\n",
      "SELECT zip_code FROM weather GROUP BY zip_code HAVING avg(mean_humidity)  <  70 INTERSECT SELECT zip_code FROM trip GROUP BY zip_code HAVING count(*)  >=  100 | zip_code (bike_1)\n",
      "SELECT zip_code FROM weather GROUP BY zip_code HAVING avg(mean_humidity)  <  70 INTERSECT SELECT zip_code FROM trip GROUP BY zip_code HAVING count(*)  >=  100 | zip_code (bike_1)\n",
      "SELECT zip_code FROM weather GROUP BY zip_code HAVING avg(mean_humidity)  <  70 INTERSECT SELECT zip_code FROM trip GROUP BY zip_code HAVING count(*)  >=  100 | zip_code (bike_1)\n",
      "SELECT zip_code FROM weather GROUP BY zip_code HAVING avg(mean_humidity)  <  70 INTERSECT SELECT zip_code FROM trip GROUP BY zip_code HAVING count(*)  >=  100 | zip_code (bike_1)\n",
      "SELECT eid FROM Employee EXCEPT SELECT eid FROM Certificate | eid (flight_1)\n",
      "SELECT eid FROM Employee EXCEPT SELECT eid FROM Certificate | eid (flight_1)\n",
      "SELECT eid FROM Employee EXCEPT SELECT eid FROM Certificate | eid (flight_1)\n",
      "SELECT eid FROM Employee EXCEPT SELECT eid FROM Certificate | eid (flight_1)\n",
      "SELECT name FROM Employee EXCEPT SELECT T1.name FROM Employee AS T1 JOIN Certificate AS T2 ON T1.eid  =  T2.eid JOIN Aircraft AS T3 ON T3.aid  =  T2.aid WHERE T3.name  =  \"Boeing 737-800\" | name (flight_1)\n",
      "SELECT name FROM Employee EXCEPT SELECT T1.name FROM Employee AS T1 JOIN Certificate AS T2 ON T1.eid  =  T2.eid JOIN Aircraft AS T3 ON T3.aid  =  T2.aid WHERE T3.name  =  \"Boeing 737-800\" | name (flight_1)\n",
      "SELECT StuID FROM Student EXCEPT SELECT StuID FROM Has_allergy | StuID (allergy_1)\n",
      "SELECT StuID FROM Student EXCEPT SELECT StuID FROM Has_allergy | StuID (allergy_1)\n",
      "SELECT StuID FROM Student EXCEPT SELECT StuID FROM Has_allergy | StuID (allergy_1)\n",
      "SELECT StuID FROM Student EXCEPT SELECT StuID FROM Has_allergy | StuID (allergy_1)\n",
      "SELECT lname ,  age FROM Student WHERE StuID IN (SELECT StuID FROM Has_allergy WHERE Allergy  =  \"Milk\" INTERSECT SELECT StuID FROM Has_allergy WHERE Allergy  =  \"Cat\") | StuID (allergy_1)\n",
      "SELECT lname ,  age FROM Student WHERE StuID IN (SELECT StuID FROM Has_allergy WHERE Allergy  =  \"Milk\" INTERSECT SELECT StuID FROM Has_allergy WHERE Allergy  =  \"Cat\") | StuID (allergy_1)\n",
      "SELECT lname ,  age FROM Student WHERE StuID IN (SELECT StuID FROM Has_allergy WHERE Allergy  =  \"Milk\" INTERSECT SELECT StuID FROM Has_allergy WHERE Allergy  =  \"Cat\") | StuID (allergy_1)\n",
      "SELECT lname ,  age FROM Student WHERE StuID IN (SELECT StuID FROM Has_allergy WHERE Allergy  =  \"Milk\" INTERSECT SELECT StuID FROM Has_allergy WHERE Allergy  =  \"Cat\") | StuID (allergy_1)\n",
      "SELECT lname ,  age FROM Student WHERE StuID IN (SELECT StuID FROM Has_allergy WHERE Allergy  =  \"Milk\" INTERSECT SELECT StuID FROM Has_allergy WHERE Allergy  =  \"Cat\") | StuID (allergy_1)\n",
      "SELECT lname ,  age FROM Student WHERE StuID IN (SELECT StuID FROM Has_allergy WHERE Allergy  =  \"Milk\" INTERSECT SELECT StuID FROM Has_allergy WHERE Allergy  =  \"Cat\") | StuID (allergy_1)\n",
      "SELECT fname ,  sex FROM Student WHERE StuID IN (SELECT StuID FROM Has_allergy WHERE Allergy  =  \"Milk\" EXCEPT SELECT StuID FROM Has_allergy WHERE Allergy  =  \"Cat\") | StuID (allergy_1)\n",
      "SELECT fname ,  sex FROM Student WHERE StuID IN (SELECT StuID FROM Has_allergy WHERE Allergy  =  \"Milk\" EXCEPT SELECT StuID FROM Has_allergy WHERE Allergy  =  \"Cat\") | StuID (allergy_1)\n",
      "SELECT fname ,  sex FROM Student WHERE StuID IN (SELECT StuID FROM Has_allergy WHERE Allergy  =  \"Milk\" EXCEPT SELECT StuID FROM Has_allergy WHERE Allergy  =  \"Cat\") | StuID (allergy_1)\n",
      "SELECT fname ,  sex FROM Student WHERE StuID IN (SELECT StuID FROM Has_allergy WHERE Allergy  =  \"Milk\" EXCEPT SELECT StuID FROM Has_allergy WHERE Allergy  =  \"Cat\") | StuID (allergy_1)\n",
      "SELECT fname ,  sex FROM Student WHERE StuID IN (SELECT StuID FROM Has_allergy WHERE Allergy  =  \"Milk\" EXCEPT SELECT StuID FROM Has_allergy WHERE Allergy  =  \"Cat\") | StuID (allergy_1)\n",
      "SELECT fname ,  sex FROM Student WHERE StuID IN (SELECT StuID FROM Has_allergy WHERE Allergy  =  \"Milk\" EXCEPT SELECT StuID FROM Has_allergy WHERE Allergy  =  \"Cat\") | StuID (allergy_1)\n",
      "SELECT avg(age) FROM Student WHERE StuID IN ( SELECT T1.StuID FROM Has_allergy AS T1 JOIN Allergy_Type AS T2 ON T1.Allergy  =  T2.Allergy WHERE T2.allergytype  =  \"food\" INTERSECT SELECT T1.StuID FROM Has_allergy AS T1 JOIN Allergy_Type AS T2 ON T1.Allergy  =  T2.Allergy WHERE T2.allergytype  =  \"animal\") | StuID (allergy_1)\n",
      "SELECT avg(age) FROM Student WHERE StuID IN ( SELECT T1.StuID FROM Has_allergy AS T1 JOIN Allergy_Type AS T2 ON T1.Allergy  =  T2.Allergy WHERE T2.allergytype  =  \"food\" INTERSECT SELECT T1.StuID FROM Has_allergy AS T1 JOIN Allergy_Type AS T2 ON T1.Allergy  =  T2.Allergy WHERE T2.allergytype  =  \"animal\") | StuID (allergy_1)\n",
      "SELECT customer_id ,  customer_first_name FROM Customers EXCEPT SELECT T1.customer_id ,  T2.customer_first_name FROM Customers_cards AS T1 JOIN Customers AS T2 ON T1.customer_id  =  T2.customer_id WHERE card_type_code  =  \"Credit\" | customer_id (customers_card_transactions)\n",
      "SELECT customer_id ,  customer_first_name FROM Customers EXCEPT SELECT T1.customer_id ,  T2.customer_first_name FROM Customers_cards AS T1 JOIN Customers AS T2 ON T1.customer_id  =  T2.customer_id WHERE card_type_code  =  \"Credit\" | customer_id (customers_card_transactions)\n",
      "SELECT name FROM track EXCEPT SELECT T2.name FROM race AS T1 JOIN track AS T2 ON T1.track_id  =  T2.track_id WHERE T1.class  =  'GT' | name (race_track)\n",
      "SELECT name FROM track EXCEPT SELECT T2.name FROM race AS T1 JOIN track AS T2 ON T1.track_id  =  T2.track_id WHERE T1.class  =  'GT' | name (race_track)\n",
      "SELECT name ,  trade_name FROM medicine EXCEPT SELECT T1.name ,  T1.trade_name FROM medicine AS T1 JOIN medicine_enzyme_interaction AS T2 ON T2.medicine_id  =  T1.id JOIN enzyme AS T3 ON T3.id  =  T2.enzyme_id WHERE T3.product  =  'Protoporphyrinogen IX' | name (medicine_enzyme_interaction)\n",
      "SELECT name ,  trade_name FROM medicine EXCEPT SELECT T1.name ,  T1.trade_name FROM medicine AS T1 JOIN medicine_enzyme_interaction AS T2 ON T2.medicine_id  =  T1.id JOIN enzyme AS T3 ON T3.id  =  T2.enzyme_id WHERE T3.product  =  'Protoporphyrinogen IX' | name (medicine_enzyme_interaction)\n",
      "SELECT player_api_id FROM Player WHERE height  >=  180 INTERSECT SELECT player_api_id FROM Player_Attributes WHERE overall_rating  >  85 | player_api_id (soccer_1)\n",
      "SELECT player_api_id FROM Player WHERE height  >=  180 INTERSECT SELECT player_api_id FROM Player_Attributes WHERE overall_rating  >  85 | player_api_id (soccer_1)\n",
      "SELECT player_api_id FROM Player WHERE height  >=  180 AND height  <=  190 INTERSECT SELECT player_api_id FROM Player_Attributes WHERE preferred_foot  =  \"left\" | player_api_id (soccer_1)\n",
      "SELECT player_api_id FROM Player WHERE height  >=  180 AND height  <=  190 INTERSECT SELECT player_api_id FROM Player_Attributes WHERE preferred_foot  =  \"left\" | player_api_id (soccer_1)\n",
      "SELECT course_id FROM course EXCEPT SELECT course_id FROM prereq | course_id (college_2)\n",
      "SELECT course_id FROM course EXCEPT SELECT course_id FROM prereq | course_id (college_2)\n",
      "SELECT course_id FROM course EXCEPT SELECT course_id FROM prereq | course_id (college_2)\n",
      "SELECT course_id FROM course EXCEPT SELECT course_id FROM prereq | course_id (college_2)\n",
      "SELECT id FROM instructor EXCEPT SELECT id FROM teaches | id (college_2)\n",
      "SELECT id FROM instructor EXCEPT SELECT id FROM teaches | id (college_2)\n",
      "SELECT id FROM instructor EXCEPT SELECT id FROM teaches | id (college_2)\n",
      "SELECT id FROM instructor EXCEPT SELECT id FROM teaches | id (college_2)\n",
      "SELECT customer_id FROM Customers EXCEPT SELECT customer_id FROM Accounts | customer_id (customers_and_invoices)\n",
      "SELECT customer_id FROM Customers EXCEPT SELECT customer_id FROM Accounts | customer_id (customers_and_invoices)\n",
      "SELECT customer_id FROM Customers EXCEPT SELECT customer_id FROM Accounts | customer_id (customers_and_invoices)\n",
      "SELECT customer_id FROM Customers EXCEPT SELECT customer_id FROM Accounts | customer_id (customers_and_invoices)\n",
      "SELECT T1.name FROM accounts AS T1 JOIN checking AS T2 ON T1.custid  =  T2.custid WHERE T2.balance  >  (SELECT avg(balance) FROM checking) INTERSECT SELECT T1.name FROM accounts AS T1 JOIN savings AS T2 ON T1.custid  =  T2.custid WHERE T2.balance  <  (SELECT avg(balance) FROM savings) | balance (small_bank_1)\n",
      "SELECT T1.name FROM accounts AS T1 JOIN checking AS T2 ON T1.custid  =  T2.custid WHERE T2.balance  >  (SELECT avg(balance) FROM checking) INTERSECT SELECT T1.name FROM accounts AS T1 JOIN savings AS T2 ON T1.custid  =  T2.custid WHERE T2.balance  <  (SELECT avg(balance) FROM savings) | balance (small_bank_1)\n",
      "SELECT T1.name FROM accounts AS T1 JOIN checking AS T2 ON T1.custid  =  T2.custid WHERE T2.balance  >  (SELECT avg(balance) FROM checking) INTERSECT SELECT T1.name FROM accounts AS T1 JOIN savings AS T2 ON T1.custid  =  T2.custid WHERE T2.balance  <  (SELECT avg(balance) FROM savings) | balance (small_bank_1)\n",
      "SELECT T1.name FROM accounts AS T1 JOIN checking AS T2 ON T1.custid  =  T2.custid WHERE T2.balance  >  (SELECT avg(balance) FROM checking) INTERSECT SELECT T1.name FROM accounts AS T1 JOIN savings AS T2 ON T1.custid  =  T2.custid WHERE T2.balance  <  (SELECT avg(balance) FROM savings) | balance (small_bank_1)\n",
      "SELECT name ,  operating_system FROM web_client_accelerator EXCEPT SELECT T1.name ,  T1.operating_system FROM web_client_accelerator AS T1 JOIN accelerator_compatible_browser AS T2 ON T2.accelerator_id  =  T1.id JOIN browser AS T3 ON T2.browser_id  =  T3.id WHERE T3.name  =  'Opera' | name (browser_web)\n",
      "SELECT event_id FROM EVENTS EXCEPT SELECT T1.event_id FROM Participants_in_Events AS T1 JOIN Participants AS T2 ON T1.Participant_ID  =  T2.Participant_ID WHERE Participant_Details  =  'Kenyatta Kuhn' | event_id (local_govt_in_alabama)\n",
      "SELECT cmi_cross_ref_id FROM cmi_cross_references EXCEPT SELECT cmi_cross_ref_id FROM parking_fines | cmi_cross_ref_id (local_govt_mdm)\n",
      "SELECT cmi_cross_ref_id FROM cmi_cross_references EXCEPT SELECT cmi_cross_ref_id FROM parking_fines | cmi_cross_ref_id (local_govt_mdm)\n",
      "SELECT title ,  film_id FROM film WHERE rental_rate  =  0.99 INTERSECT SELECT T1.title ,  T1.film_id FROM film AS T1 JOIN inventory AS T2 ON T1.film_id  =  T2.film_id GROUP BY T1.film_id HAVING count(*)  <  3 | film_id (sakila_1)\n",
      "SELECT title ,  film_id FROM film WHERE rental_rate  =  0.99 INTERSECT SELECT T1.title ,  T1.film_id FROM film AS T1 JOIN inventory AS T2 ON T1.film_id  =  T2.film_id GROUP BY T1.film_id HAVING count(*)  <  3 | film_id (sakila_1)\n",
      "SELECT artist_name FROM artist WHERE country  =  \"UK\" INTERSECT SELECT artist_name FROM song WHERE languages  =  \"english\" | artist_name (music_1)\n",
      "SELECT artist_name FROM artist WHERE country  =  \"UK\" INTERSECT SELECT artist_name FROM song WHERE languages  =  \"english\" | country (music_1)\n",
      "SELECT artist_name FROM artist WHERE country  =  \"UK\" INTERSECT SELECT artist_name FROM song WHERE languages  =  \"english\" | artist_name (music_1)\n",
      "SELECT artist_name FROM artist WHERE country  =  \"UK\" INTERSECT SELECT artist_name FROM song WHERE languages  =  \"english\" | artist_name (music_1)\n",
      "SELECT artist_name FROM artist WHERE country  =  \"UK\" INTERSECT SELECT artist_name FROM song WHERE languages  =  \"english\" | country (music_1)\n",
      "SELECT artist_name FROM artist WHERE country  =  \"UK\" INTERSECT SELECT artist_name FROM song WHERE languages  =  \"english\" | artist_name (music_1)\n",
      "SELECT f_id FROM files WHERE formats  =  \"mp4\" INTERSECT SELECT f_id FROM song WHERE resolution  <  1000 | f_id (music_1)\n",
      "SELECT f_id FROM files WHERE formats  =  \"mp4\" INTERSECT SELECT f_id FROM song WHERE resolution  <  1000 | f_id (music_1)\n",
      "SELECT f_id FROM files WHERE formats  =  \"mp4\" INTERSECT SELECT f_id FROM song WHERE resolution  <  1000 | f_id (music_1)\n",
      "SELECT f_id FROM files WHERE formats  =  \"mp4\" INTERSECT SELECT f_id FROM song WHERE resolution  <  1000 | f_id (music_1)\n",
      "SELECT f_id FROM files WHERE formats  =  \"mp4\" UNION SELECT f_id FROM song WHERE resolution  >  720 | f_id (music_1)\n",
      "SELECT f_id FROM files WHERE formats  =  \"mp4\" UNION SELECT f_id FROM song WHERE resolution  >  720 | f_id (music_1)\n",
      "SELECT f_id FROM files WHERE formats  =  \"mp4\" UNION SELECT f_id FROM song WHERE resolution  >  720 | f_id (music_1)\n",
      "SELECT f_id FROM files WHERE formats  =  \"mp4\" UNION SELECT f_id FROM song WHERE resolution  >  720 | f_id (music_1)\n",
      "SELECT artist_name FROM artist WHERE country  =  \"UK\" INTERSECT SELECT T1.artist_name FROM artist AS T1 JOIN song AS T2 ON T1.artist_name  =  T2.artist_name WHERE T2.languages  =  \"english\" | country (music_1)\n",
      "SELECT artist_name FROM artist WHERE country  =  \"UK\" INTERSECT SELECT T1.artist_name FROM artist AS T1 JOIN song AS T2 ON T1.artist_name  =  T2.artist_name WHERE T2.languages  =  \"english\" | artist_name (music_1)\n",
      "SELECT artist_name FROM artist WHERE country  =  \"UK\" INTERSECT SELECT T1.artist_name FROM artist AS T1 JOIN song AS T2 ON T1.artist_name  =  T2.artist_name WHERE T2.languages  =  \"english\" | country (music_1)\n",
      "SELECT artist_name FROM artist WHERE country  =  \"UK\" INTERSECT SELECT T1.artist_name FROM artist AS T1 JOIN song AS T2 ON T1.artist_name  =  T2.artist_name WHERE T2.languages  =  \"english\" | artist_name (music_1)\n",
      "SELECT DISTINCT artist_name FROM artist WHERE country  =  \"Bangladesh\" EXCEPT SELECT DISTINCT artist_name FROM song WHERE rating  >  7 | artist_name (music_1)\n",
      "SELECT DISTINCT artist_name FROM artist WHERE country  =  \"Bangladesh\" EXCEPT SELECT DISTINCT artist_name FROM song WHERE rating  >  7 | country (music_1)\n",
      "SELECT DISTINCT artist_name FROM artist WHERE country  =  \"Bangladesh\" EXCEPT SELECT DISTINCT artist_name FROM song WHERE rating  >  7 | artist_name (music_1)\n",
      "SELECT DISTINCT artist_name FROM artist WHERE country  =  \"Bangladesh\" EXCEPT SELECT DISTINCT artist_name FROM song WHERE rating  >  7 | artist_name (music_1)\n",
      "SELECT DISTINCT artist_name FROM artist WHERE country  =  \"Bangladesh\" EXCEPT SELECT DISTINCT artist_name FROM song WHERE rating  >  7 | country (music_1)\n",
      "SELECT DISTINCT artist_name FROM artist WHERE country  =  \"Bangladesh\" EXCEPT SELECT DISTINCT artist_name FROM song WHERE rating  >  7 | artist_name (music_1)\n",
      "SELECT name ,  prominence FROM mountain EXCEPT SELECT T1.name ,  T1.prominence FROM mountain AS T1 JOIN photos AS T2 ON T1.id  =  T2.mountain_id JOIN camera_lens AS T3 ON T2.camera_lens_id  =  T3.id WHERE T3.brand  =  'Sigma' | name (mountain_photos)\n",
      "SELECT login_name FROM Course_Authors_and_Tutors INTERSECT SELECT login_name FROM Students | login_name (e_learning)\n",
      "SELECT login_name FROM Course_Authors_and_Tutors INTERSECT SELECT login_name FROM Students | login_name (e_learning)\n",
      "SELECT login_name FROM Course_Authors_and_Tutors INTERSECT SELECT login_name FROM Students | login_name (e_learning)\n",
      "SELECT login_name FROM Course_Authors_and_Tutors INTERSECT SELECT login_name FROM Students | login_name (e_learning)\n",
      "SELECT personal_name FROM Course_Authors_and_Tutors INTERSECT SELECT personal_name FROM Students | personal_name (e_learning)\n",
      "SELECT personal_name FROM Course_Authors_and_Tutors INTERSECT SELECT personal_name FROM Students | personal_name (e_learning)\n",
      "SELECT personal_name FROM Course_Authors_and_Tutors INTERSECT SELECT personal_name FROM Students | personal_name (e_learning)\n",
      "SELECT personal_name FROM Course_Authors_and_Tutors INTERSECT SELECT personal_name FROM Students | personal_name (e_learning)\n",
      "SELECT T1.Date_Claim_Made ,  T1.Claim_id FROM Claims AS T1 JOIN Settlements AS T2 ON T1.Claim_id  =  T2.Claim_id GROUP BY T1.Claim_id HAVING count(*)  >  2 UNION SELECT T1.Date_Claim_Made ,  T1.Claim_id FROM Claims AS T1 JOIN Settlements AS T2 ON T1.Claim_id  =  T2.Claim_id WHERE T1.Amount_Claimed  =  ( SELECT max(Amount_Claimed) FROM Claims ) | Amount_Claimed (insurance_policies)\n",
      "SELECT T1.Date_Claim_Made ,  T1.Claim_id FROM Claims AS T1 JOIN Settlements AS T2 ON T1.Claim_id  =  T2.Claim_id GROUP BY T1.Claim_id HAVING count(*)  >  2 UNION SELECT T1.Date_Claim_Made ,  T1.Claim_id FROM Claims AS T1 JOIN Settlements AS T2 ON T1.Claim_id  =  T2.Claim_id WHERE T1.Amount_Claimed  =  ( SELECT max(Amount_Claimed) FROM Claims ) | Amount_Claimed (insurance_policies)\n",
      "SELECT name FROM procedures WHERE cost  >  1000 UNION SELECT T3.name FROM physician AS T1 JOIN trained_in AS T2 ON T1.employeeid  =  T2.physician JOIN procedures AS T3 ON T3.code  =  T2.treatment WHERE T1.name  =  \"John Wen\" | name (hospital_1)\n",
      "SELECT name FROM procedures WHERE cost  >  1000 UNION SELECT T3.name FROM physician AS T1 JOIN trained_in AS T2 ON T1.employeeid  =  T2.physician JOIN procedures AS T3 ON T3.code  =  T2.treatment WHERE T1.name  =  \"John Wen\" | name (hospital_1)\n",
      "SELECT name FROM procedures WHERE cost  >  1000 EXCEPT SELECT T3.name FROM physician AS T1 JOIN trained_in AS T2 ON T1.employeeid  =  T2.physician JOIN procedures AS T3 ON T3.code  =  T2.treatment WHERE T1.name  =  \"John Wen\" | name (hospital_1)\n",
      "SELECT name FROM procedures WHERE cost  >  1000 EXCEPT SELECT T3.name FROM physician AS T1 JOIN trained_in AS T2 ON T1.employeeid  =  T2.physician JOIN procedures AS T3 ON T3.code  =  T2.treatment WHERE T1.name  =  \"John Wen\" | name (hospital_1)\n",
      "SELECT name FROM procedures WHERE cost  <  5000 INTERSECT SELECT T3.name FROM physician AS T1 JOIN trained_in AS T2 ON T1.employeeid  =  T2.physician JOIN procedures AS T3 ON T3.code  =  T2.treatment WHERE T1.name  =  \"John Wen\" | name (hospital_1)\n",
      "SELECT name FROM procedures WHERE cost  <  5000 INTERSECT SELECT T3.name FROM physician AS T1 JOIN trained_in AS T2 ON T1.employeeid  =  T2.physician JOIN procedures AS T3 ON T3.code  =  T2.treatment WHERE T1.name  =  \"John Wen\" | name (hospital_1)\n",
      "SELECT name FROM patient EXCEPT SELECT T1.name FROM patient AS T1 JOIN Prescribes AS T2 ON T2.Patient  =  T1.SSN JOIN Medication AS T3 ON T2.Medication  =  T3.Code WHERE T3.name  =  'Procrastin-X' | name (hospital_1)\n",
      "SELECT name FROM patient EXCEPT SELECT T1.name FROM patient AS T1 JOIN Prescribes AS T2 ON T2.Patient  =  T1.SSN JOIN Medication AS T3 ON T2.Medication  =  T3.Code WHERE T3.name  =  'Procrastin-X' | name (hospital_1)\n",
      "SELECT T1.name FROM Person AS T1 JOIN PersonFriend AS T2 ON T1.name  =  T2.name WHERE T2.friend IN (SELECT name FROM Person WHERE age  >  40) INTERSECT SELECT T1.name FROM Person AS T1 JOIN PersonFriend AS T2 ON T1.name  =  T2.name WHERE T2.friend IN (SELECT name FROM Person WHERE age  <  30) | name (network_2)\n",
      "SELECT T1.name FROM Person AS T1 JOIN PersonFriend AS T2 ON T1.name  =  T2.name WHERE T2.friend IN (SELECT name FROM Person WHERE age  >  40) INTERSECT SELECT T1.name FROM Person AS T1 JOIN PersonFriend AS T2 ON T1.name  =  T2.name WHERE T2.friend IN (SELECT name FROM Person WHERE age  <  30) | name (network_2)\n",
      "SELECT T1.name FROM Person AS T1 JOIN PersonFriend AS T2 ON T1.name  =  T2.name WHERE T2.friend IN (SELECT name FROM Person WHERE age  >  40) INTERSECT SELECT T1.name FROM Person AS T1 JOIN PersonFriend AS T2 ON T1.name  =  T2.name WHERE T2.friend IN (SELECT name FROM Person WHERE age  <  30) | name (network_2)\n",
      "SELECT T1.name FROM Person AS T1 JOIN PersonFriend AS T2 ON T1.name  =  T2.name WHERE T2.friend IN (SELECT name FROM Person WHERE age  >  40) INTERSECT SELECT T1.name FROM Person AS T1 JOIN PersonFriend AS T2 ON T1.name  =  T2.name WHERE T2.friend IN (SELECT name FROM Person WHERE age  <  30) | name (network_2)\n",
      "SELECT T1.name FROM Person AS T1 JOIN PersonFriend AS T2 ON T1.name  =  T2.name WHERE T2.friend IN (SELECT name FROM Person WHERE age  >  40) EXCEPT SELECT T1.name FROM Person AS T1 JOIN PersonFriend AS T2 ON T1.name  =  T2.name WHERE T2.friend IN (SELECT name FROM Person WHERE age  <  30) | name (network_2)\n",
      "SELECT T1.name FROM Person AS T1 JOIN PersonFriend AS T2 ON T1.name  =  T2.name WHERE T2.friend IN (SELECT name FROM Person WHERE age  >  40) EXCEPT SELECT T1.name FROM Person AS T1 JOIN PersonFriend AS T2 ON T1.name  =  T2.name WHERE T2.friend IN (SELECT name FROM Person WHERE age  <  30) | name (network_2)\n",
      "SELECT T1.name FROM Person AS T1 JOIN PersonFriend AS T2 ON T1.name  =  T2.name WHERE T2.friend IN (SELECT name FROM Person WHERE age  >  40) EXCEPT SELECT T1.name FROM Person AS T1 JOIN PersonFriend AS T2 ON T1.name  =  T2.name WHERE T2.friend IN (SELECT name FROM Person WHERE age  <  30) | name (network_2)\n",
      "SELECT T1.name FROM Person AS T1 JOIN PersonFriend AS T2 ON T1.name  =  T2.name WHERE T2.friend IN (SELECT name FROM Person WHERE age  >  40) EXCEPT SELECT T1.name FROM Person AS T1 JOIN PersonFriend AS T2 ON T1.name  =  T2.name WHERE T2.friend IN (SELECT name FROM Person WHERE age  <  30) | name (network_2)\n",
      "SELECT name FROM person EXCEPT SELECT T2.name FROM Person AS T1 JOIN PersonFriend AS T2 ON T1.name  =  T2.friend WHERE T1.job  =  'student' | name (network_2)\n",
      "SELECT name FROM person EXCEPT SELECT T2.name FROM Person AS T1 JOIN PersonFriend AS T2 ON T1.name  =  T2.friend WHERE T1.job  =  'student' | name (network_2)\n",
      "SELECT name FROM person EXCEPT SELECT name FROM PersonFriend | name (network_2)\n",
      "SELECT name FROM person EXCEPT SELECT name FROM PersonFriend | name (network_2)\n",
      "SELECT name FROM person EXCEPT SELECT name FROM PersonFriend | name (network_2)\n",
      "SELECT name FROM person EXCEPT SELECT name FROM PersonFriend | name (network_2)\n",
      "SELECT product_id FROM Order_Items GROUP BY product_id HAVING count(*)  >  3 UNION SELECT product_id FROM Product_Suppliers GROUP BY product_id HAVING sum(total_amount_purchased)  >  80000 | product_id (department_store)\n",
      "SELECT product_id FROM Order_Items GROUP BY product_id HAVING count(*)  >  3 UNION SELECT product_id FROM Product_Suppliers GROUP BY product_id HAVING sum(total_amount_purchased)  >  80000 | product_id (department_store)\n",
      "SELECT product_id FROM Order_Items GROUP BY product_id HAVING count(*)  >  3 UNION SELECT product_id FROM Product_Suppliers GROUP BY product_id HAVING sum(total_amount_purchased)  >  80000 | product_id (department_store)\n",
      "SELECT product_id FROM Order_Items GROUP BY product_id HAVING count(*)  >  3 UNION SELECT product_id FROM Product_Suppliers GROUP BY product_id HAVING sum(total_amount_purchased)  >  80000 | product_id (department_store)\n",
      "SELECT product_id FROM Order_Items GROUP BY product_id HAVING count(*)  >  3 UNION SELECT product_id FROM Product_Suppliers GROUP BY product_id HAVING sum(total_amount_purchased)  >  80000 | product_id (department_store)\n",
      "SELECT product_id FROM Order_Items GROUP BY product_id HAVING count(*)  >  3 UNION SELECT product_id FROM Product_Suppliers GROUP BY product_id HAVING sum(total_amount_purchased)  >  80000 | product_id (department_store)\n",
      "SELECT product_id FROM Order_Items GROUP BY product_id HAVING count(*)  >  3 UNION SELECT product_id FROM Product_Suppliers GROUP BY product_id HAVING sum(total_amount_purchased)  >  80000 | product_id (department_store)\n",
      "SELECT product_id FROM Order_Items GROUP BY product_id HAVING count(*)  >  3 UNION SELECT product_id FROM Product_Suppliers GROUP BY product_id HAVING sum(total_amount_purchased)  >  80000 | product_id (department_store)\n",
      "SELECT name FROM manufacturers EXCEPT SELECT T2.name FROM products AS T1 JOIN manufacturers AS T2 ON T1.Manufacturer  =  T2.code WHERE T1.name  =  'DVD drive' | name (manufactory_1)\n",
      "SELECT name FROM manufacturers EXCEPT SELECT T2.name FROM products AS T1 JOIN manufacturers AS T2 ON T1.Manufacturer  =  T2.code WHERE T1.name  =  'DVD drive' | name (manufactory_1)\n",
      "SELECT phone_number FROM customers UNION SELECT phone_number FROM staff | phone_number (customer_complaints)\n",
      "SELECT phone_number FROM customers UNION SELECT phone_number FROM staff | phone_number (customer_complaints)\n",
      "SELECT phone_number FROM customers UNION SELECT phone_number FROM staff | phone_number (customer_complaints)\n",
      "SELECT phone_number FROM customers UNION SELECT phone_number FROM staff | phone_number (customer_complaints)\n",
      "SELECT StuID FROM Student EXCEPT SELECT StuID FROM Sportsinfo | StuID (game_1)\n",
      "SELECT StuID FROM Student EXCEPT SELECT StuID FROM Sportsinfo | StuID (game_1)\n",
      "SELECT StuID FROM Student EXCEPT SELECT StuID FROM Sportsinfo | StuID (game_1)\n",
      "SELECT StuID FROM Student EXCEPT SELECT StuID FROM Sportsinfo | StuID (game_1)\n",
      "SELECT StuID FROM Student WHERE major  =  600 INTERSECT SELECT StuID FROM Sportsinfo WHERE onscholarship  =  'Y' | StuID (game_1)\n",
      "SELECT StuID FROM Student WHERE major  =  600 INTERSECT SELECT StuID FROM Sportsinfo WHERE onscholarship  =  'Y' | StuID (game_1)\n",
      "SELECT StuID FROM Student WHERE major  =  600 INTERSECT SELECT StuID FROM Sportsinfo WHERE onscholarship  =  'Y' | StuID (game_1)\n",
      "SELECT StuID FROM Student WHERE major  =  600 INTERSECT SELECT StuID FROM Sportsinfo WHERE onscholarship  =  'Y' | StuID (game_1)\n",
      "SELECT StuID FROM Student WHERE sex  =  'F' INTERSECT SELECT StuID FROM Sportsinfo WHERE sportname  =  \"Football\" | StuID (game_1)\n",
      "SELECT StuID FROM Student WHERE sex  =  'F' INTERSECT SELECT StuID FROM Sportsinfo WHERE sportname  =  \"Football\" | StuID (game_1)\n",
      "SELECT StuID FROM Student WHERE sex  =  'F' INTERSECT SELECT StuID FROM Sportsinfo WHERE sportname  =  \"Football\" | StuID (game_1)\n",
      "SELECT StuID FROM Student WHERE sex  =  'F' INTERSECT SELECT StuID FROM Sportsinfo WHERE sportname  =  \"Football\" | StuID (game_1)\n",
      "SELECT StuID FROM Student WHERE sex  =  'M' EXCEPT SELECT StuID FROM Sportsinfo WHERE sportname  =  \"Football\" | StuID (game_1)\n",
      "SELECT StuID FROM Student WHERE sex  =  'M' EXCEPT SELECT StuID FROM Sportsinfo WHERE sportname  =  \"Football\" | StuID (game_1)\n",
      "SELECT StuID FROM Student WHERE sex  =  'M' EXCEPT SELECT StuID FROM Sportsinfo WHERE sportname  =  \"Football\" | StuID (game_1)\n",
      "SELECT StuID FROM Student WHERE sex  =  'M' EXCEPT SELECT StuID FROM Sportsinfo WHERE sportname  =  \"Football\" | StuID (game_1)\n",
      "SELECT StuID FROM Student EXCEPT SELECT StuID FROM Plays_games | StuID (game_1)\n",
      "SELECT StuID FROM Student EXCEPT SELECT StuID FROM Plays_games | StuID (game_1)\n",
      "SELECT StuID FROM Student EXCEPT SELECT StuID FROM Plays_games | StuID (game_1)\n",
      "SELECT StuID FROM Student EXCEPT SELECT StuID FROM Plays_games | StuID (game_1)\n",
      "SELECT StuID FROM Sportsinfo INTERSECT SELECT StuID FROM Plays_games | StuID (game_1)\n",
      "SELECT StuID FROM Sportsinfo INTERSECT SELECT StuID FROM Plays_games | StuID (game_1)\n",
      "SELECT StuID FROM Sportsinfo INTERSECT SELECT StuID FROM Plays_games | StuID (game_1)\n",
      "SELECT StuID FROM Sportsinfo INTERSECT SELECT StuID FROM Plays_games | StuID (game_1)\n",
      "SELECT fname ,  age FROM Student WHERE StuID IN (SELECT StuID FROM Sportsinfo WHERE SportName  =  \"Football\" INTERSECT SELECT StuID FROM Sportsinfo WHERE SportName  =  \"Lacrosse\") | StuID (game_1)\n",
      "SELECT fname ,  age FROM Student WHERE StuID IN (SELECT StuID FROM Sportsinfo WHERE SportName  =  \"Football\" INTERSECT SELECT StuID FROM Sportsinfo WHERE SportName  =  \"Lacrosse\") | StuID (game_1)\n",
      "SELECT fname ,  age FROM Student WHERE StuID IN (SELECT StuID FROM Sportsinfo WHERE SportName  =  \"Football\" INTERSECT SELECT StuID FROM Sportsinfo WHERE SportName  =  \"Lacrosse\") | StuID (game_1)\n",
      "SELECT fname ,  age FROM Student WHERE StuID IN (SELECT StuID FROM Sportsinfo WHERE SportName  =  \"Football\" INTERSECT SELECT StuID FROM Sportsinfo WHERE SportName  =  \"Lacrosse\") | StuID (game_1)\n",
      "SELECT fname ,  age FROM Student WHERE StuID IN (SELECT StuID FROM Sportsinfo WHERE SportName  =  \"Football\" INTERSECT SELECT StuID FROM Sportsinfo WHERE SportName  =  \"Lacrosse\") | StuID (game_1)\n",
      "SELECT fname ,  age FROM Student WHERE StuID IN (SELECT StuID FROM Sportsinfo WHERE SportName  =  \"Football\" INTERSECT SELECT StuID FROM Sportsinfo WHERE SportName  =  \"Lacrosse\") | StuID (game_1)\n",
      "SELECT lname ,  sex FROM Student WHERE StuID IN (SELECT T1.StuID FROM Plays_games AS T1 JOIN Video_games AS T2 ON T1.GameID  =  T2.GameID WHERE T2.Gname  =  \"Call of Destiny\" INTERSECT SELECT T1.StuID FROM Plays_games AS T1 JOIN Video_games AS T2 ON T1.GameID  =  T2.GameID WHERE T2.Gname  =  \"Works of Widenius\") | StuID (game_1)\n",
      "SELECT lname ,  sex FROM Student WHERE StuID IN (SELECT T1.StuID FROM Plays_games AS T1 JOIN Video_games AS T2 ON T1.GameID  =  T2.GameID WHERE T2.Gname  =  \"Call of Destiny\" INTERSECT SELECT T1.StuID FROM Plays_games AS T1 JOIN Video_games AS T2 ON T1.GameID  =  T2.GameID WHERE T2.Gname  =  \"Works of Widenius\") | StuID (game_1)\n",
      "SELECT document_id FROM Documents EXCEPT SELECT document_id FROM Documents_with_expenses | document_id (cre_Docs_and_Epenses)\n",
      "SELECT document_id FROM Documents EXCEPT SELECT document_id FROM Documents_with_expenses | document_id (cre_Docs_and_Epenses)\n",
      "SELECT document_id FROM Documents EXCEPT SELECT document_id FROM Documents_with_expenses | document_id (cre_Docs_and_Epenses)\n",
      "SELECT document_id FROM Documents EXCEPT SELECT document_id FROM Documents_with_expenses | document_id (cre_Docs_and_Epenses)\n",
      "SELECT document_id FROM Documents WHERE document_type_code  =  \"CV\" EXCEPT SELECT document_id FROM Documents_with_expenses | document_id (cre_Docs_and_Epenses)\n",
      "SELECT document_id FROM Documents WHERE document_type_code  =  \"CV\" EXCEPT SELECT document_id FROM Documents_with_expenses | document_id (cre_Docs_and_Epenses)\n",
      "SELECT document_id FROM Documents WHERE document_type_code  =  \"CV\" EXCEPT SELECT document_id FROM Documents_with_expenses | document_id (cre_Docs_and_Epenses)\n",
      "SELECT document_id FROM Documents WHERE document_type_code  =  \"CV\" EXCEPT SELECT document_id FROM Documents_with_expenses | document_id (cre_Docs_and_Epenses)\n",
      "SELECT name FROM scientists EXCEPT SELECT T3.name FROM assignedto AS T1 JOIN projects AS T2 ON T1.project  =  T2.code JOIN scientists AS T3 ON T1.scientist  =  T3.SSN WHERE T2.hours  =  (SELECT max(hours) FROM projects) | name (scientist_1)\n",
      "SELECT name FROM scientists EXCEPT SELECT T3.name FROM assignedto AS T1 JOIN projects AS T2 ON T1.project  =  T2.code JOIN scientists AS T3 ON T1.scientist  =  T3.SSN WHERE T2.hours  =  (SELECT max(hours) FROM projects) | name (scientist_1)\n",
      "SELECT Appelation FROM WINE WHERE YEAR  >  2008 EXCEPT SELECT Appelation FROM APPELLATIONS WHERE Area  =  \"Central Coast\" | Appelation (wine_1)\n",
      "SELECT Appelation FROM WINE WHERE YEAR  >  2008 EXCEPT SELECT Appelation FROM APPELLATIONS WHERE Area  =  \"Central Coast\" | Appelation (wine_1)\n",
      "SELECT Appelation FROM WINE WHERE YEAR  >  2008 EXCEPT SELECT Appelation FROM APPELLATIONS WHERE Area  =  \"Central Coast\" | Appelation (wine_1)\n",
      "SELECT Appelation FROM WINE WHERE YEAR  >  2008 EXCEPT SELECT Appelation FROM APPELLATIONS WHERE Area  =  \"Central Coast\" | Appelation (wine_1)\n",
      "SELECT last_name FROM Customers INTERSECT SELECT last_name FROM Staff | last_name (driving_school)\n",
      "SELECT last_name FROM Customers INTERSECT SELECT last_name FROM Staff | last_name (driving_school)\n",
      "SELECT last_name FROM Customers INTERSECT SELECT last_name FROM Staff | last_name (driving_school)\n",
      "SELECT last_name FROM Customers INTERSECT SELECT last_name FROM Staff | last_name (driving_school)\n",
      "SELECT FacID FROM Faculty EXCEPT SELECT FacID FROM Faculty_participates_in | FacID (activity_1)\n",
      "SELECT FacID FROM Faculty EXCEPT SELECT FacID FROM Faculty_participates_in | FacID (activity_1)\n",
      "SELECT FacID FROM Faculty EXCEPT SELECT FacID FROM Faculty_participates_in | FacID (activity_1)\n",
      "SELECT FacID FROM Faculty EXCEPT SELECT FacID FROM Faculty_participates_in | FacID (activity_1)\n",
      "SELECT StuID FROM Student EXCEPT SELECT StuID FROM Participates_in | StuID (activity_1)\n",
      "SELECT StuID FROM Student EXCEPT SELECT StuID FROM Participates_in | StuID (activity_1)\n",
      "SELECT StuID FROM Student EXCEPT SELECT StuID FROM Participates_in | StuID (activity_1)\n",
      "SELECT StuID FROM Student EXCEPT SELECT StuID FROM Participates_in | StuID (activity_1)\n",
      "SELECT StuID FROM Participates_in INTERSECT SELECT StuID FROM Student WHERE age  <  20 | StuID (activity_1)\n",
      "SELECT StuID FROM Participates_in INTERSECT SELECT StuID FROM Student WHERE age  <  20 | StuID (activity_1)\n",
      "SELECT StuID FROM Participates_in INTERSECT SELECT StuID FROM Student WHERE age  <  20 | StuID (activity_1)\n",
      "SELECT StuID FROM Participates_in INTERSECT SELECT StuID FROM Student WHERE age  <  20 | StuID (activity_1)\n"
     ]
    }
   ],
   "source": [
    "with open('../auxiliary/translated_likes/train_spider.json') as f:\n",
    "    samples = json.load(f)\n",
    "    \n",
    "tables_translation_dict = create_tables_translation_dict('../auxiliary/translated_schema/tables_names.json')\n",
    "columns_translation_dict = create_columns_translation_dict('../auxiliary/translated_schema/columns_names.json')\n",
    "\n",
    "trans_samples = translate_samples(samples, tables_translation_dict, columns_translation_dict)"
   ]
  },
  {
   "cell_type": "code",
   "execution_count": 591,
   "metadata": {},
   "outputs": [],
   "source": [
    "trans_samples"
   ]
  },
  {
   "cell_type": "code",
   "execution_count": 596,
   "metadata": {},
   "outputs": [],
   "source": [
    "with open('../auxiliary/translated_likes/train_spider.json', 'w') as f:\n",
    "        json.dump(trans_samples, f, indent=4, ensure_ascii=False)"
   ]
  },
  {
   "cell_type": "code",
   "execution_count": 18,
   "metadata": {},
   "outputs": [],
   "source": [
    "def create_complete(src_name, dst_name):\n",
    "    src_path = Path('../auxiliary') / src_name\n",
    "    dst_path = Path('../complete') / dst_name\n",
    "    \n",
    "    dst_path.mkdir(exist_ok=True, parents=True)\n",
    "    \n",
    "    for file in ['dev.json', 'train_others.json', 'train_spider.json']:\n",
    "        add_calculated_attributes_to_samples(\n",
    "            src_path / file,\n",
    "            dst_path / file,\n",
    "            src_path / 'tables.json'\n",
    "        )\n",
    "\n",
    "    create_gold_sql(\n",
    "        [\n",
    "            src_path / 'dev.json'\n",
    "        ],\n",
    "        dst_path / 'dev_gold.sql'\n",
    "    )\n",
    "\n",
    "    create_gold_sql(\n",
    "        [\n",
    "            src_path / 'train_spider.json',\n",
    "            src_path / 'train_others.json'\n",
    "        ],\n",
    "        dst_path / 'train_gold.sql'\n",
    "    )\n",
    "    \n",
    "    shutil.copyfile(src_path / 'tables.json', dst_path / 'tables.json')"
   ]
  },
  {
   "cell_type": "code",
   "execution_count": 19,
   "metadata": {},
   "outputs": [],
   "source": [
    "create_complete('machine_translated', 'machine_translated')"
   ]
  }
 ],
 "metadata": {
  "kernelspec": {
   "display_name": "polish-spider",
   "language": "python",
   "name": "python3"
  },
  "language_info": {
   "codemirror_mode": {
    "name": "ipython",
    "version": 3
   },
   "file_extension": ".py",
   "mimetype": "text/x-python",
   "name": "python",
   "nbconvert_exporter": "python",
   "pygments_lexer": "ipython3",
   "version": "3.10.9"
  },
  "orig_nbformat": 4
 },
 "nbformat": 4,
 "nbformat_minor": 2
}
