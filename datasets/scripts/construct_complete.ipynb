{
 "cells": [
  {
   "cell_type": "code",
   "execution_count": 1,
   "metadata": {},
   "outputs": [],
   "source": [
    "import json\n",
    "import shutil\n",
    "\n",
    "import sqlparse\n",
    "import spacy\n",
    "from sqlparse import sql\n",
    "from tqdm import tqdm\n",
    "from pathlib import Path\n",
    "\n",
    "from process_sql import create_sql, SQLParseException"
   ]
  },
  {
   "cell_type": "code",
   "execution_count": 3,
   "metadata": {},
   "outputs": [],
   "source": [
    "# Loading whole english spider dataset for further tests\n",
    "spider_en = []\n",
    "with open('../spider-en/train_spider.json') as json_data:\n",
    "    spider_en.extend(json.load(json_data))\n",
    "with open('../spider-en/train_others.json') as json_data:\n",
    "    spider_en.extend(json.load(json_data))\n",
    "with open('../spider-en/dev.json') as json_data:\n",
    "    spider_en.extend(json.load(json_data))"
   ]
  },
  {
   "attachments": {},
   "cell_type": "markdown",
   "metadata": {},
   "source": [
    "## Query toks no value"
   ]
  },
  {
   "cell_type": "code",
   "execution_count": 3,
   "metadata": {},
   "outputs": [],
   "source": [
    "def tokenize_query_no_value(query):\n",
    "    statement = sqlparse.parse(query)[0]\n",
    "    \n",
    "    value_tokens = [token for token in statement.flatten() if str(token.ttype).startswith('Token.Literal')]\n",
    "    for token in value_tokens:\n",
    "        token.value = 'value'\n",
    "        \n",
    "    coarse_tokens =  [str(token).lower() for token in statement.flatten() if str(token).strip() != '']\n",
    "    \n",
    "    fine_tokens = []\n",
    "    for token in coarse_tokens:\n",
    "        if len(token.split(' ')) > 1:\n",
    "            fine_tokens.extend(token.split(' '))\n",
    "        elif token == '!=':\n",
    "            fine_tokens.extend(['!', '='])\n",
    "        elif token == '>=':\n",
    "            fine_tokens.extend(['>', '='])\n",
    "        elif token == '<=':\n",
    "            fine_tokens.extend(['<', '='])\n",
    "        elif token == ';':\n",
    "            continue\n",
    "        else:\n",
    "            fine_tokens.append(token)\n",
    "    return fine_tokens"
   ]
  },
  {
   "attachments": {},
   "cell_type": "markdown",
   "metadata": {},
   "source": [
    "### Test"
   ]
  },
  {
   "cell_type": "code",
   "execution_count": 44,
   "metadata": {},
   "outputs": [
    {
     "name": "stdout",
     "output_type": "stream",
     "text": [
      "SELECT count(*) FROM follows GROUP BY f1\n",
      "['select', 'count', '(', '*', ')', 'from', 'follows', 'group', 'by', 'f1']\n",
      "['select', 'count', '(', '*', ')', 'from', 'follows', 'group', 'by', 'value']\n",
      "\n",
      "SELECT Roles.role_description , count(Employees.employee_id) FROM ROLES JOIN Employees ON Employees.role_code = Roles.role_code GROUP BY Employees.role_code HAVING count(Employees.employee_id)  >  1;\n",
      "['select', 'roles', '.', 'role_description', ',', 'count', '(', 'employees', '.', 'employee_id', ')', 'from', 'roles', 'join', 'employees', 'on', 'employees', '.', 'role_code', '=', 'roles', '.', 'role_code', 'group', 'by', 'employees', '.', 'role_code', 'having', 'count', '(', 'employees', '.', 'employee_id', ')', '>', 'value']\n",
      "['select', 'roles.role_description', ',', 'count', '(', 'employees.employee_id', ')', 'from', 'roles', 'join', 'employees', 'on', 'employees.role_code', '=', 'roles.role_code', 'group', 'by', 'employees.role_code', 'having', 'count', '(', 'employees.employee_id', ')', '>', 'value']\n",
      "\n",
      "SELECT Ref_Document_Status.document_status_description FROM Ref_Document_Status JOIN Documents ON Documents.document_status_code = Ref_Document_Status.document_status_code WHERE Documents.document_id = 1;\n",
      "['select', 'ref_document_status', '.', 'document_status_description', 'from', 'ref_document_status', 'join', 'documents', 'on', 'documents', '.', 'document_status_code', '=', 'ref_document_status', '.', 'document_status_code', 'where', 'documents', '.', 'document_id', '=', 'value']\n",
      "['select', 'ref_document_status.document_status_description', 'from', 'ref_document_status', 'join', 'documents', 'on', 'documents.document_status_code', '=', 'ref_document_status.document_status_code', 'where', 'documents.document_id', '=', 'value']\n",
      "\n",
      "SELECT Ref_Shipping_Agents.shipping_agent_name FROM Ref_Shipping_Agents JOIN Documents ON Documents.shipping_agent_code = Ref_Shipping_Agents.shipping_agent_code WHERE Documents.document_id = 2;\n",
      "['select', 'ref_shipping_agents', '.', 'shipping_agent_name', 'from', 'ref_shipping_agents', 'join', 'documents', 'on', 'documents', '.', 'shipping_agent_code', '=', 'ref_shipping_agents', '.', 'shipping_agent_code', 'where', 'documents', '.', 'document_id', '=', 'value']\n",
      "['select', 'ref_shipping_agents.shipping_agent_name', 'from', 'ref_shipping_agents', 'join', 'documents', 'on', 'documents.shipping_agent_code', '=', 'ref_shipping_agents.shipping_agent_code', 'where', 'documents.document_id', '=', 'value']\n",
      "\n",
      "SELECT count(*) FROM Ref_Shipping_Agents JOIN Documents ON Documents.shipping_agent_code = Ref_Shipping_Agents.shipping_agent_code WHERE Ref_Shipping_Agents.shipping_agent_name = \"USPS\";\n",
      "['select', 'count', '(', '*', ')', 'from', 'ref_shipping_agents', 'join', 'documents', 'on', 'documents', '.', 'shipping_agent_code', '=', 'ref_shipping_agents', '.', 'shipping_agent_code', 'where', 'ref_shipping_agents', '.', 'shipping_agent_name', '=', 'value']\n",
      "['select', 'count', '(', '*', ')', 'from', 'ref_shipping_agents', 'join', 'documents', 'on', 'documents.shipping_agent_code', '=', 'ref_shipping_agents.shipping_agent_code', 'where', 'ref_shipping_agents.shipping_agent_name', '=', 'value']\n",
      "\n",
      "SELECT Ref_Shipping_Agents.shipping_agent_name , count(Documents.document_id) FROM Ref_Shipping_Agents JOIN Documents ON Documents.shipping_agent_code = Ref_Shipping_Agents.shipping_agent_code GROUP BY Ref_Shipping_Agents.shipping_agent_code ORDER BY count(Documents.document_id) DESC LIMIT 1;\n",
      "['select', 'ref_shipping_agents', '.', 'shipping_agent_name', ',', 'count', '(', 'documents', '.', 'document_id', ')', 'from', 'ref_shipping_agents', 'join', 'documents', 'on', 'documents', '.', 'shipping_agent_code', '=', 'ref_shipping_agents', '.', 'shipping_agent_code', 'group', 'by', 'ref_shipping_agents', '.', 'shipping_agent_code', 'order', 'by', 'count', '(', 'documents', '.', 'document_id', ')', 'desc', 'limit', 'value']\n",
      "['select', 'ref_shipping_agents.shipping_agent_name', ',', 'count', '(', 'documents.document_id', ')', 'from', 'ref_shipping_agents', 'join', 'documents', 'on', 'documents.shipping_agent_code', '=', 'ref_shipping_agents.shipping_agent_code', 'group', 'by', 'ref_shipping_agents.shipping_agent_code', 'order', 'by', 'count', '(', 'documents.document_id', ')', 'desc', 'limit', 'value']\n",
      "\n",
      "SELECT Addresses.address_details FROM Addresses JOIN Documents_Mailed ON Documents_Mailed.mailed_to_address_id = Addresses.address_id WHERE document_id = 4;\n",
      "['select', 'addresses', '.', 'address_details', 'from', 'addresses', 'join', 'documents_mailed', 'on', 'documents_mailed', '.', 'mailed_to_address_id', '=', 'addresses', '.', 'address_id', 'where', 'document_id', '=', 'value']\n",
      "['select', 'addresses.address_details', 'from', 'addresses', 'join', 'documents_mailed', 'on', 'documents_mailed.mailed_to_address_id', '=', 'addresses.address_id', 'where', 'document_id', '=', 'value']\n",
      "\n",
      "SELECT document_id FROM Documents WHERE document_status_code  =  \"done\" AND document_type_code = \"Paper\" EXCEPT SELECT document_id FROM Documents JOIN Ref_Shipping_Agents ON Documents.shipping_agent_code = Ref_Shipping_Agents.shipping_agent_code WHERE Ref_Shipping_Agents.shipping_agent_name = \"USPS\";\n",
      "['select', 'document_id', 'from', 'documents', 'where', 'document_status_code', '=', 'value', 'and', 'document_type_code', '=', 'value', 'except', 'select', 'document_id', 'from', 'documents', 'join', 'ref_shipping_agents', 'on', 'documents', '.', 'shipping_agent_code', '=', 'ref_shipping_agents', '.', 'shipping_agent_code', 'where', 'ref_shipping_agents', '.', 'shipping_agent_name', '=', 'value']\n",
      "['select', 'document_id', 'from', 'documents', 'where', 'document_status_code', '=', 'value', 'and', 'document_type_code', '=', 'value', 'except', 'select', 'document_id', 'from', 'documents', 'join', 'ref_shipping_agents', 'on', 'documents.shipping_agent_code', '=', 'ref_shipping_agents.shipping_agent_code', 'where', 'ref_shipping_agents.shipping_agent_name', '=', 'value']\n",
      "\n",
      "SELECT document_id FROM Documents WHERE document_status_code  =  \"done\" AND document_type_code = \"Paper\" INTERSECT SELECT document_id FROM Documents JOIN Ref_Shipping_Agents ON Documents.shipping_agent_code = Ref_Shipping_Agents.shipping_agent_code WHERE Ref_Shipping_Agents.shipping_agent_name = \"USPS\";\n",
      "['select', 'document_id', 'from', 'documents', 'where', 'document_status_code', '=', 'value', 'and', 'document_type_code', '=', 'value', 'intersect', 'select', 'document_id', 'from', 'documents', 'join', 'ref_shipping_agents', 'on', 'documents', '.', 'shipping_agent_code', '=', 'ref_shipping_agents', '.', 'shipping_agent_code', 'where', 'ref_shipping_agents', '.', 'shipping_agent_name', '=', 'value']\n",
      "['select', 'document_id', 'from', 'documents', 'where', 'document_status_code', '=', 'value', 'and', 'document_type_code', '=', 'value', 'intersect', 'select', 'document_id', 'from', 'documents', 'join', 'ref_shipping_agents', 'on', 'documents.shipping_agent_code', '=', 'ref_shipping_agents.shipping_agent_code', 'where', 'ref_shipping_agents.shipping_agent_name', '=', 'value']\n",
      "\n",
      "SELECT Employees.employee_name FROM Employees JOIN Circulation_History ON Circulation_History.employee_id = Employees.employee_id WHERE Circulation_History.document_id = 1;\n",
      "['select', 'employees', '.', 'employee_name', 'from', 'employees', 'join', 'circulation_history', 'on', 'circulation_history', '.', 'employee_id', '=', 'employees', '.', 'employee_id', 'where', 'circulation_history', '.', 'document_id', '=', 'value']\n",
      "['select', 'employees.employee_name', 'from', 'employees', 'join', 'circulation_history', 'on', 'circulation_history.employee_id', '=', 'employees.employee_id', 'where', 'circulation_history.document_id', '=', 'value']\n",
      "\n",
      "SELECT employee_name FROM Employees EXCEPT SELECT Employees.employee_name FROM Employees JOIN Circulation_History ON Circulation_History.employee_id = Employees.employee_id\n",
      "['select', 'employee_name', 'from', 'employees', 'except', 'select', 'employees', '.', 'employee_name', 'from', 'employees', 'join', 'circulation_history', 'on', 'circulation_history', '.', 'employee_id', '=', 'employees', '.', 'employee_id']\n",
      "['select', 'employee_name', 'from', 'employees', 'except', 'select', 'employees.employee_name', 'from', 'employees', 'join', 'circulation_history', 'on', 'circulation_history.employee_id', '=', 'employees.employee_id']\n",
      "\n",
      "SELECT Employees.employee_name , count(*) FROM Employees JOIN Circulation_History ON Circulation_History.employee_id = Employees.employee_id GROUP BY Circulation_History.document_id , Circulation_History.draft_number , Circulation_History.copy_number ORDER BY count(*) DESC LIMIT 1;\n",
      "['select', 'employees', '.', 'employee_name', ',', 'count', '(', '*', ')', 'from', 'employees', 'join', 'circulation_history', 'on', 'circulation_history', '.', 'employee_id', '=', 'employees', '.', 'employee_id', 'group', 'by', 'circulation_history', '.', 'document_id', ',', 'circulation_history', '.', 'draft_number', ',', 'circulation_history', '.', 'copy_number', 'order', 'by', 'count', '(', '*', ')', 'desc', 'limit', 'value']\n",
      "['select', 'employees.employee_name', ',', 'count', '(', '*', ')', 'from', 'employees', 'join', 'circulation_history', 'on', 'circulation_history.employee_id', '=', 'employees.employee_id', 'group', 'by', 'circulation_history.document_id', ',', 'circulation_history.draft_number', ',', 'circulation_history.copy_number', 'order', 'by', 'count', '(', '*', ')', 'desc', 'limit', 'value']\n",
      "\n",
      "SELECT count(*) FROM Restaurant JOIN Type_Of_Restaurant ON Restaurant.ResID =  Type_Of_Restaurant.ResID JOIN Restaurant_Type ON Type_Of_Restaurant.ResTypeID = Restaurant_Type.ResTypeID GROUP BY Type_Of_Restaurant.ResTypeID HAVING Restaurant_Type.ResTypeName = 'Sandwich'\n",
      "['select', 'count', '(', '*', ')', 'from', 'restaurant', 'join', 'type_of_restaurant', 'on', 'restaurant', '.', 'resid', '=', 'type_of_restaurant', '.', 'resid', 'join', 'restaurant_type', 'on', 'type_of_restaurant', '.', 'restypeid', '=', 'restaurant_type', '.', 'restypeid', 'group', 'by', 'type_of_restaurant', '.', 'restypeid', 'having', 'restaurant_type', '.', 'restypename', '=', 'value']\n",
      "['select', 'count', '(', '*', ')', 'from', 'restaurant', 'join', 'type_of_restaurant', 'on', 'restaurant.resid', '=', 'type_of_restaurant.resid', 'join', 'restaurant_type', 'on', 'type_of_restaurant.restypeid', '=', 'restaurant_type.restypeid', 'group', 'by', 'type_of_restaurant.restypeid', 'having', 'restaurant_type.restypename', '=', 'value']\n",
      "\n",
      "SELECT sum(Spent) FROM Student JOIN Visits_Restaurant ON Student.StuID = Visits_Restaurant.StuID WHERE Student.Fname = \"Linda\" AND Student.Lname = \"Smith\";\n",
      "['select', 'sum', '(', 'spent', ')', 'from', 'student', 'join', 'visits_restaurant', 'on', 'student', '.', 'stuid', '=', 'visits_restaurant', '.', 'stuid', 'where', 'student', '.', 'fname', '=', 'value', 'and', 'student', '.', 'lname', '=', 'value']\n",
      "['select', 'sum', '(', 'spent', ')', 'from', 'student', 'join', 'visits_restaurant', 'on', 'student.stuid', '=', 'visits_restaurant.stuid', 'where', 'student.fname', '=', 'value', 'and', 'student.lname', '=', 'value']\n",
      "\n",
      "SELECT count(*) FROM Student JOIN Visits_Restaurant ON Student.StuID = Visits_Restaurant.StuID JOIN Restaurant ON Visits_Restaurant.ResID = Restaurant.ResID WHERE Student.Fname = \"Linda\" AND Student.Lname = \"Smith\" AND Restaurant.ResName = \"Subway\";\n",
      "['select', 'count', '(', '*', ')', 'from', 'student', 'join', 'visits_restaurant', 'on', 'student', '.', 'stuid', '=', 'visits_restaurant', '.', 'stuid', 'join', 'restaurant', 'on', 'visits_restaurant', '.', 'resid', '=', 'restaurant', '.', 'resid', 'where', 'student', '.', 'fname', '=', 'value', 'and', 'student', '.', 'lname', '=', 'value', 'and', 'restaurant', '.', 'resname', '=', 'value']\n",
      "['select', 'count', '(', '*', ')', 'from', 'student', 'join', 'visits_restaurant', 'on', 'student.stuid', '=', 'visits_restaurant.stuid', 'join', 'restaurant', 'on', 'visits_restaurant.resid', '=', 'restaurant.resid', 'where', 'student.fname', '=', 'value', 'and', 'student.lname', '=', 'value', 'and', 'restaurant.resname', '=', 'value']\n",
      "\n",
      "SELECT TIME FROM Student JOIN Visits_Restaurant ON Student.StuID = Visits_Restaurant.StuID JOIN Restaurant ON Visits_Restaurant.ResID = Restaurant.ResID WHERE Student.Fname = \"Linda\" AND Student.Lname = \"Smith\" AND Restaurant.ResName = \"Subway\";\n",
      "['select', 'time', 'from', 'student', 'join', 'visits_restaurant', 'on', 'student', '.', 'stuid', '=', 'visits_restaurant', '.', 'stuid', 'join', 'restaurant', 'on', 'visits_restaurant', '.', 'resid', '=', 'restaurant', '.', 'resid', 'where', 'student', '.', 'fname', '=', 'value', 'and', 'student', '.', 'lname', '=', 'value', 'and', 'restaurant', '.', 'resname', '=', 'value']\n",
      "['select', 'time', 'from', 'student', 'join', 'visits_restaurant', 'on', 'student.stuid', '=', 'visits_restaurant.stuid', 'join', 'restaurant', 'on', 'visits_restaurant.resid', '=', 'restaurant.resid', 'where', 'student.fname', '=', 'value', 'and', 'student.lname', '=', 'value', 'and', 'restaurant.resname', '=', 'value']\n",
      "\n",
      "SELECT Restaurant.ResName ,  sum(Visits_Restaurant.Spent) FROM Visits_Restaurant JOIN Restaurant ON Visits_Restaurant.ResID = Restaurant.ResID GROUP BY Restaurant.ResID ORDER BY sum(Visits_Restaurant.Spent) ASC LIMIT 1;\n",
      "['select', 'restaurant', '.', 'resname', ',', 'sum', '(', 'visits_restaurant', '.', 'spent', ')', 'from', 'visits_restaurant', 'join', 'restaurant', 'on', 'visits_restaurant', '.', 'resid', '=', 'restaurant', '.', 'resid', 'group', 'by', 'restaurant', '.', 'resid', 'order', 'by', 'sum', '(', 'visits_restaurant', '.', 'spent', ')', 'asc', 'limit', 'value']\n",
      "['select', 'restaurant.resname', ',', 'sum', '(', 'visits_restaurant.spent', ')', 'from', 'visits_restaurant', 'join', 'restaurant', 'on', 'visits_restaurant.resid', '=', 'restaurant.resid', 'group', 'by', 'restaurant.resid', 'order', 'by', 'sum', '(', 'visits_restaurant.spent', ')', 'asc', 'limit', 'value']\n",
      "\n",
      "SELECT Student.Fname , Student.Lname FROM Student JOIN Visits_Restaurant ON Student.StuID = Visits_Restaurant.StuID GROUP BY Student.StuID ORDER BY count(*) DESC LIMIT 1;\n",
      "['select', 'student', '.', 'fname', ',', 'student', '.', 'lname', 'from', 'student', 'join', 'visits_restaurant', 'on', 'student', '.', 'stuid', '=', 'visits_restaurant', '.', 'stuid', 'group', 'by', 'student', '.', 'stuid', 'order', 'by', 'count', '(', '*', ')', 'desc', 'limit', 'value']\n",
      "['select', 'student.fname', ',', 'student.lname', 'from', 'student', 'join', 'visits_restaurant', 'on', 'student.stuid', '=', 'visits_restaurant.stuid', 'group', 'by', 'student.stuid', 'order', 'by', 'count', '(', '*', ')', 'desc', 'limit', 'value']\n",
      "\n",
      "18 discrepancies\n"
     ]
    }
   ],
   "source": [
    "# Compare created tokenization function with tokens from oryginal spider\n",
    "discrepancies = 0\n",
    "\n",
    "for sample in spider_en:\n",
    "    my_tokens = tokenize_query_no_value(sample['query'])\n",
    "    oryginal_tokens = sample['query_toks_no_value']\n",
    "    if my_tokens != oryginal_tokens:\n",
    "        discrepancies += 1\n",
    "        print(sample['query'])\n",
    "        print(my_tokens)\n",
    "        print(oryginal_tokens)\n",
    "        print()\n",
    "        \n",
    "print(discrepancies, 'discrepancies')\n",
    "# found 18 discrepancies"
   ]
  },
  {
   "attachments": {},
   "cell_type": "markdown",
   "metadata": {},
   "source": [
    "## Query toks"
   ]
  },
  {
   "cell_type": "code",
   "execution_count": 4,
   "metadata": {},
   "outputs": [],
   "source": [
    "nlp_pl = spacy.load(\"pl_core_news_md\")\n",
    "\n",
    "def tokenize_polish(text):\n",
    "    return [str(token) for token in nlp_pl(text)]"
   ]
  },
  {
   "cell_type": "code",
   "execution_count": 5,
   "metadata": {},
   "outputs": [],
   "source": [
    "def tokenize_statement(root, tokens=None):\n",
    "    if tokens is None:\n",
    "        tokens = []\n",
    "    \n",
    "    # Create tokens from elements which we can't divide\n",
    "    if not hasattr(root, 'tokens'):\n",
    "        token = str(root).strip()\n",
    "        if token == '' or token == ';':\n",
    "            pass\n",
    "        elif len(token.split(' ')) > 1:\n",
    "            tokens.extend(token.split(' '))\n",
    "        elif token == '!=':\n",
    "            tokens.extend(['!', '='])\n",
    "        elif token == '>=':\n",
    "            tokens.extend(['>', '='])\n",
    "        elif token == '<=':\n",
    "            tokens.extend(['<', '='])\n",
    "        else:\n",
    "            tokens.append(str(root))\n",
    "    \n",
    "    # Not split identifiers like \"T1.name\" into separate tokens\n",
    "    elif isinstance(root, sql.Identifier) and '.' in str(root):\n",
    "        tokens.append(str(root))\n",
    "        \n",
    "    # Tokenize strings using polish tokenizer\n",
    "    elif isinstance(root, sql.Identifier) and len(root.tokens) == 1 and str(root.tokens[0].ttype) == 'Token.Literal.String.Symbol':\n",
    "        tokens.extend(tokenize_polish(str(root)))\n",
    "        \n",
    "    # Tokenize other compound elements recursively\n",
    "    else:\n",
    "        for token in root.tokens:\n",
    "            tokenize_statement(token, tokens)\n",
    "            \n",
    "    return tokens"
   ]
  },
  {
   "cell_type": "code",
   "execution_count": 6,
   "metadata": {},
   "outputs": [],
   "source": [
    "def tokenize_query(query):\n",
    "    statement = sqlparse.parse(query)[0]\n",
    "    tokens = tokenize_statement(statement)\n",
    "    return tokens"
   ]
  },
  {
   "attachments": {},
   "cell_type": "markdown",
   "metadata": {},
   "source": [
    "### Test"
   ]
  },
  {
   "cell_type": "code",
   "execution_count": null,
   "metadata": {},
   "outputs": [],
   "source": [
    "# Compare created tokenization function with tokens from oryginal spider\n",
    "discrepancies = 0\n",
    "\n",
    "for sample in spider_en:\n",
    "    my_tokens = tokenize_query(sample['query'])\n",
    "    oryginal_tokens = sample['query_toks']\n",
    "    if my_tokens != oryginal_tokens:\n",
    "        discrepancies += 1\n",
    "        print(sample['query'])\n",
    "        print(my_tokens)\n",
    "        print(oryginal_tokens)\n",
    "        print()\n",
    "        \n",
    "print(discrepancies, 'discrepancies')\n",
    "# found 4754 discrepancies"
   ]
  },
  {
   "attachments": {},
   "cell_type": "markdown",
   "metadata": {},
   "source": [
    "## Question tokenization"
   ]
  },
  {
   "cell_type": "code",
   "execution_count": 7,
   "metadata": {},
   "outputs": [],
   "source": [
    "def tokenize_question(question):\n",
    "    return tokenize_polish(question)"
   ]
  },
  {
   "attachments": {},
   "cell_type": "markdown",
   "metadata": {},
   "source": [
    "## Completing dataset"
   ]
  },
  {
   "cell_type": "code",
   "execution_count": 8,
   "metadata": {},
   "outputs": [],
   "source": [
    "def add_calculated_attributes_to_samples(src_path, tgt_path, tables_path):\n",
    "    with open(src_path) as f:\n",
    "        samples = json.load(f)\n",
    "        \n",
    "    new_samples = []\n",
    "        \n",
    "    for sample in tqdm(samples):\n",
    "        try:\n",
    "            sql = create_sql(sample['db_id'], sample['query_pl'], tables_path)\n",
    "        except SQLParseException:\n",
    "            # skip samples with invalid sqls\n",
    "            print('Skipping sample')\n",
    "        \n",
    "        new_sample = {\n",
    "            'db_id': sample['db_id'],\n",
    "            'question': sample['question_pl'],\n",
    "            'question_toks': tokenize_question(sample['question_pl']),\n",
    "            'query': sample['query_pl'],\n",
    "            'query_toks': tokenize_query(sample['query_pl']),\n",
    "            'query_toks_no_value': tokenize_query_no_value(sample['query_pl']),\n",
    "            'sql': sql\n",
    "        }\n",
    "        \n",
    "        new_samples.append(new_sample)\n",
    "        \n",
    "    with open(tgt_path, 'w') as f:\n",
    "        json.dump(new_samples, f, indent=4, ensure_ascii=False)"
   ]
  },
  {
   "cell_type": "code",
   "execution_count": 9,
   "metadata": {},
   "outputs": [],
   "source": [
    "def create_gold_sql(src_files, tgt_file):\n",
    "    with open(tgt_file, 'w') as f:\n",
    "        for src_file in src_files:\n",
    "            with open(src_file) as g:\n",
    "                for sample in json.load(g):\n",
    "                    f.write(f\"{sample['query_pl']}\\t{sample['db_id']}\\n\")"
   ]
  },
  {
   "cell_type": "code",
   "execution_count": 18,
   "metadata": {},
   "outputs": [],
   "source": [
    "def create_complete(src_name, dst_name):\n",
    "    src_path = Path('../auxiliary') / src_name\n",
    "    dst_path = Path('../complete') / dst_name\n",
    "    \n",
    "    dst_path.mkdir(exist_ok=True, parents=True)\n",
    "    \n",
    "    for file in ['dev.json', 'train_others.json', 'train_spider.json']:\n",
    "        add_calculated_attributes_to_samples(\n",
    "            src_path / file,\n",
    "            dst_path / file,\n",
    "            src_path / 'tables.json'\n",
    "        )\n",
    "\n",
    "    create_gold_sql(\n",
    "        [\n",
    "            src_path / 'dev.json'\n",
    "        ],\n",
    "        dst_path / 'dev_gold.sql'\n",
    "    )\n",
    "\n",
    "    create_gold_sql(\n",
    "        [\n",
    "            src_path / 'train_spider.json',\n",
    "            src_path / 'train_others.json'\n",
    "        ],\n",
    "        dst_path / 'train_gold.sql'\n",
    "    )\n",
    "    \n",
    "    shutil.copyfile(src_path / 'tables.json', dst_path / 'tables.json')"
   ]
  },
  {
   "cell_type": "code",
   "execution_count": 19,
   "metadata": {},
   "outputs": [],
   "source": [
    "create_complete('machine_translated', 'machine_translated')"
   ]
  }
 ],
 "metadata": {
  "kernelspec": {
   "display_name": "polish-spider",
   "language": "python",
   "name": "python3"
  },
  "language_info": {
   "codemirror_mode": {
    "name": "ipython",
    "version": 3
   },
   "file_extension": ".py",
   "mimetype": "text/x-python",
   "name": "python",
   "nbconvert_exporter": "python",
   "pygments_lexer": "ipython3",
   "version": "3.10.9"
  },
  "orig_nbformat": 4
 },
 "nbformat": 4,
 "nbformat_minor": 2
}
