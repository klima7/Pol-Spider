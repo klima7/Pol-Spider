{
 "cells": [
  {
   "cell_type": "code",
   "execution_count": 3,
   "metadata": {},
   "outputs": [],
   "source": [
    "from pathlib import Path\n",
    "\n",
    "from common import load_json"
   ]
  },
  {
   "attachments": {},
   "cell_type": "markdown",
   "metadata": {},
   "source": [
    "## Common"
   ]
  },
  {
   "cell_type": "code",
   "execution_count": 4,
   "metadata": {},
   "outputs": [],
   "source": [
    "TRANSLATIONS_DIR = Path('../components/schema_trans')"
   ]
  },
  {
   "attachments": {},
   "cell_type": "markdown",
   "metadata": {},
   "source": [
    "## Comparing translations"
   ]
  },
  {
   "cell_type": "code",
   "execution_count": 26,
   "metadata": {},
   "outputs": [],
   "source": [
    "def find_differences_in_translations(path1, path2, attribute_name):\n",
    "    differences = []\n",
    "    \n",
    "    translations1 = load_json(path1)\n",
    "    translations2 = load_json(path2)\n",
    "    \n",
    "    for translation1, translation2 in zip(translations1, translations2):\n",
    "        value1 = translation1[attribute_name]\n",
    "        value2 = translation2[attribute_name]\n",
    "        if value1 != value2:\n",
    "            differences.append((value1, value2))\n",
    "            \n",
    "    translations_count = len(translations1)\n",
    "    return differences, translations_count"
   ]
  },
  {
   "cell_type": "code",
   "execution_count": 27,
   "metadata": {},
   "outputs": [],
   "source": [
    "def compare_translations(path1, path2):\n",
    "    column_diff, column_count = find_differences_in_translations(\n",
    "        path1 / 'column_trans.json',\n",
    "        path2 / 'column_trans.json',\n",
    "        'column_name_original_pl'\n",
    "    )\n",
    "\n",
    "    table_diff, table_count = find_differences_in_translations(\n",
    "        path1 / 'table_trans.json',\n",
    "        path2 / 'table_trans.json',\n",
    "        'name_original_pl'\n",
    "    )\n",
    "\n",
    "    print('Column differences:', f'{len(column_diff)} / {column_count} ({len(column_diff)/column_count:.3f}%)')\n",
    "    print('Table differences:', f'{len(table_diff)} / {table_count} ({len(table_diff)/table_count:.3f}%)')"
   ]
  },
  {
   "cell_type": "code",
   "execution_count": 28,
   "metadata": {},
   "outputs": [
    {
     "name": "stdout",
     "output_type": "stream",
     "text": [
      "Column differences: 851 / 4563 (0.187%)\n",
      "Table differences: 193 / 888 (0.217%)\n"
     ]
    }
   ],
   "source": [
    "# context vs nocontext\n",
    "\n",
    "compare_translations(\n",
    "    TRANSLATIONS_DIR / 'context',\n",
    "    TRANSLATIONS_DIR / 'nocontext'\n",
    ")"
   ]
  },
  {
   "cell_type": "code",
   "execution_count": 30,
   "metadata": {},
   "outputs": [
    {
     "name": "stdout",
     "output_type": "stream",
     "text": [
      "Column differences: 615 / 4563 (0.135%)\n",
      "Table differences: 77 / 888 (0.087%)\n"
     ]
    }
   ],
   "source": [
    "# context vs context_curated\n",
    "\n",
    "compare_translations(\n",
    "    TRANSLATIONS_DIR / 'context',\n",
    "    TRANSLATIONS_DIR / 'context_curated'\n",
    ")"
   ]
  }
 ],
 "metadata": {
  "kernelspec": {
   "display_name": "polish-spider",
   "language": "python",
   "name": "python3"
  },
  "language_info": {
   "codemirror_mode": {
    "name": "ipython",
    "version": 3
   },
   "file_extension": ".py",
   "mimetype": "text/x-python",
   "name": "python",
   "nbconvert_exporter": "python",
   "pygments_lexer": "ipython3",
   "version": "3.10.9"
  },
  "orig_nbformat": 4
 },
 "nbformat": 4,
 "nbformat_minor": 2
}
