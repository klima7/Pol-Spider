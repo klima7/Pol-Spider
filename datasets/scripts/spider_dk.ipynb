{
 "cells": [
  {
   "cell_type": "code",
   "execution_count": 1,
   "metadata": {},
   "outputs": [],
   "source": [
    "import json\n",
    "from pprint import pprint\n",
    "\n",
    "from translation.schema import create_translation_entries"
   ]
  },
  {
   "cell_type": "code",
   "execution_count": 2,
   "metadata": {},
   "outputs": [],
   "source": [
    "TABLES_PATH = '../components/schema/base/tables.json'\n",
    "COLUMN_TRANS_PATH = '../components/schema/translations/columns_pl.json'\n",
    "TABLE_TRANS_PATH = '../components/schema/translations/tables_pl.json'"
   ]
  },
  {
   "attachments": {},
   "cell_type": "markdown",
   "metadata": {},
   "source": [
    "## Fix tables.json stuff"
   ]
  },
  {
   "cell_type": "code",
   "execution_count": 3,
   "metadata": {},
   "outputs": [],
   "source": [
    "with open(TABLES_PATH) as f:\n",
    "    tables_ent = json.load(f)"
   ]
  },
  {
   "cell_type": "code",
   "execution_count": 4,
   "metadata": {},
   "outputs": [],
   "source": [
    "tables_part = tables_ent[-3:]"
   ]
  },
  {
   "cell_type": "code",
   "execution_count": null,
   "metadata": {},
   "outputs": [],
   "source": [
    "new_tables, new_columns = create_translation_entries(tables_part)\n",
    "\n",
    "pprint(new_tables[0])\n",
    "pprint(new_columns[0])"
   ]
  },
  {
   "cell_type": "code",
   "execution_count": 16,
   "metadata": {},
   "outputs": [],
   "source": [
    "with open(TABLE_TRANS_PATH) as f:\n",
    "    columns_trans = json.load(f)\n",
    "    \n",
    "columns_trans.extend(new_tables)\n",
    "\n",
    "with open(TABLE_TRANS_PATH, \"w\", encoding=\"utf-8\") as f:\n",
    "    json.dump(columns_trans, f, indent=4, ensure_ascii=False)"
   ]
  },
  {
   "cell_type": "code",
   "execution_count": 17,
   "metadata": {},
   "outputs": [],
   "source": [
    "with open(COLUMN_TRANS_PATH) as f:\n",
    "    columns_trans = json.load(f)\n",
    "    \n",
    "columns_trans.extend(new_columns)\n",
    "\n",
    "with open(COLUMN_TRANS_PATH, \"w\", encoding=\"utf-8\") as f:\n",
    "    json.dump(columns_trans, f, indent=4, ensure_ascii=False)"
   ]
  },
  {
   "attachments": {},
   "cell_type": "markdown",
   "metadata": {},
   "source": [
    "## Translate schema"
   ]
  },
  {
   "cell_type": "code",
   "execution_count": 3,
   "metadata": {},
   "outputs": [],
   "source": [
    "from translation.schema import DoubleSchemaTranslation\n",
    "from common import save_json\n",
    "from tqdm import tqdm"
   ]
  },
  {
   "cell_type": "code",
   "execution_count": null,
   "metadata": {},
   "outputs": [],
   "source": [
    "with open(COLUMN_TRANS_PATH) as f:\n",
    "    column_entries = json.load(f)\n",
    "    \n",
    "with open(TABLE_TRANS_PATH) as f:\n",
    "    table_entries = json.load(f)\n",
    "    \n",
    "translation = DoubleSchemaTranslation()\n",
    "\n",
    "for i, table_entry in tqdm(enumerate(column_entries), total=len(column_entries)):\n",
    "    if not table_entry['db_id'] in ['new_pets_1', 'new_orchestra', 'new_concert_singer']:\n",
    "        continue\n",
    "    db_table_entries = [te for te in table_entries if te['db_id'] == table_entry['db_id']]\n",
    "    table_entry = [te for te in db_table_entries if te['name_original'] == table_entry['table_name_original']][0]\n",
    "    table_entry['column_name_original_pl'] = translation.translate_column_name_original(table_entry, table_entry, db_table_entries)\n",
    "    table_entry['column_name_pl'] = translation.translate_column_name(table_entry, table_entry, db_table_entries)\n",
    "    \n",
    "    if i % 50 == 0:\n",
    "        save_json(COLUMN_TRANS_PATH, column_entries)\n",
    "        \n",
    "save_json(COLUMN_TRANS_PATH, column_entries)"
   ]
  },
  {
   "cell_type": "code",
   "execution_count": 8,
   "metadata": {},
   "outputs": [],
   "source": [
    "save_json(TABLE_TRANS_PATH, table_entries)"
   ]
  },
  {
   "cell_type": "code",
   "execution_count": null,
   "metadata": {},
   "outputs": [],
   "source": [
    "with open(TABLE_TRANS_PATH) as f:\n",
    "    table_entries = json.load(f)\n",
    "    \n",
    "translation = DoubleSchemaTranslation()\n",
    "\n",
    "for i, table_entry in tqdm(enumerate(table_entries), total=len(table_entries)):\n",
    "    if not table_entry['db_id'] in ['new_pets_1', 'new_orchestra', 'new_concert_singer']:\n",
    "        continue\n",
    "    table_entry['name_original_pl'] = translation.translate_table_name_original(table_entry)\n",
    "    table_entry['name_pl'] = translation.translate_table_name(table_entry)\n",
    "    \n",
    "    if i % 50 == 0:\n",
    "        save_json(TABLE_TRANS_PATH, table_entries)\n",
    "        \n",
    "save_json(TABLE_TRANS_PATH, table_entries)"
   ]
  },
  {
   "attachments": {},
   "cell_type": "markdown",
   "metadata": {},
   "source": [
    "## Translate questions"
   ]
  },
  {
   "cell_type": "code",
   "execution_count": 9,
   "metadata": {},
   "outputs": [],
   "source": [
    "from translation.samples import translate_question, translate_query\n",
    "from tqdm import tqdm"
   ]
  },
  {
   "cell_type": "code",
   "execution_count": 2,
   "metadata": {},
   "outputs": [],
   "source": [
    "from common import load_json, save_json\n",
    "\n",
    "data = load_json('../components/samples/spider_dk/samples.json')\n",
    "\n",
    "new_samples = []\n",
    "for sample in data:\n",
    "    new_sample = {\n",
    "        \"type\": sample[\"type\"],\n",
    "        \"db_id\": sample[\"db_id\"],\n",
    "        \"question\": sample[\"question\"],\n",
    "        \"question_pl\": \"...\",\n",
    "        \"query\": sample[\"query\"],\n",
    "        \"query_pl\": \"...\",\n",
    "    }\n",
    "    \n",
    "    new_samples.append(new_sample)\n",
    "save_json('../components/samples/spider_dk/samples.json', new_samples)"
   ]
  },
  {
   "cell_type": "code",
   "execution_count": 10,
   "metadata": {},
   "outputs": [
    {
     "name": "stderr",
     "output_type": "stream",
     "text": [
      "100%|██████████| 535/535 [00:17<00:00, 31.26it/s] \n"
     ]
    }
   ],
   "source": [
    "data = load_json('../components/samples/spider_dk/samples.json')\n",
    "\n",
    "for i, sample in tqdm(enumerate(data), total=len(data)):\n",
    "    sample[\"query_pl\"] = translate_query(sample[\"query\"])\n",
    "    if i % 50 == 0:\n",
    "        save_json('../components/samples/spider_dk/samples.json', data)\n",
    "\n",
    "save_json('../components/samples/spider_dk/samples.json', data)"
   ]
  },
  {
   "attachments": {},
   "cell_type": "markdown",
   "metadata": {},
   "source": [
    "## Other"
   ]
  },
  {
   "cell_type": "code",
   "execution_count": 2,
   "metadata": {},
   "outputs": [],
   "source": [
    "SPIDER_DK_PATH = '../../components/samples/spider_dk/samples.json'\n",
    "SPIDER_PATH = '../../components/samples/spider/train_spider.json'"
   ]
  },
  {
   "cell_type": "code",
   "execution_count": null,
   "metadata": {},
   "outputs": [],
   "source": [
    "with open(SPIDER_DK_PATH) as f:\n",
    "    spider_syn = json.load(f)"
   ]
  },
  {
   "cell_type": "code",
   "execution_count": null,
   "metadata": {},
   "outputs": [],
   "source": [
    "with open(SPIDER_PATH) as f:\n",
    "    spider = json.load(f)"
   ]
  },
  {
   "cell_type": "code",
   "execution_count": null,
   "metadata": {},
   "outputs": [],
   "source": [
    "new_samples = []\n",
    "\n",
    "for sample, org_sample in zip(spider_syn, spider):\n",
    "    new_sample = {\n",
    "        \"db_id\": sample[\"db_id\"],\n",
    "        \"question_original_en\": sample[\"SpiderQuestion\"],\n",
    "        \"question_original_pl\": \"...\",\n",
    "        \"question_en\": sample[\"SpiderSynQuestion\"],\n",
    "        \"question_pl\": \"...\",\n",
    "        \"query_en\": sample[\"query\"],\n",
    "        \"query_pl\": \"...\"\n",
    "    }\n",
    "    \n",
    "    new_samples.append(new_sample)"
   ]
  },
  {
   "cell_type": "code",
   "execution_count": null,
   "metadata": {},
   "outputs": [],
   "source": [
    "with open(SPIDER_DK_PATH, \"w\", encoding=\"utf-8\") as f:\n",
    "        json.dump(new_samples, f, indent=4, ensure_ascii=False)"
   ]
  },
  {
   "cell_type": "code",
   "execution_count": null,
   "metadata": {},
   "outputs": [
    {
     "data": {
      "text/plain": [
       "(7000, 7000)"
      ]
     },
     "metadata": {},
     "output_type": "display_data"
    }
   ],
   "source": [
    "len(spider_syn), len(spider)"
   ]
  }
 ],
 "metadata": {
  "kernelspec": {
   "display_name": "polish-spider",
   "language": "python",
   "name": "python3"
  },
  "language_info": {
   "codemirror_mode": {
    "name": "ipython",
    "version": 3
   },
   "file_extension": ".py",
   "mimetype": "text/x-python",
   "name": "python",
   "nbconvert_exporter": "python",
   "pygments_lexer": "ipython3",
   "version": "3.10.9"
  },
  "orig_nbformat": 4
 },
 "nbformat": 4,
 "nbformat_minor": 2
}
