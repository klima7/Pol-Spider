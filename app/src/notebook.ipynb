{
 "cells": [
  {
   "cell_type": "code",
   "execution_count": 1,
   "metadata": {},
   "outputs": [],
   "source": [
    "%load_ext autoreload"
   ]
  },
  {
   "cell_type": "code",
   "execution_count": 6,
   "metadata": {},
   "outputs": [],
   "source": [
    "import time\n",
    "import json\n",
    "import tempfile\n",
    "import shutil\n",
    "from pathlib import Path\n",
    "\n",
    "from helpers.get_tables import get_tables\n",
    "from resdsql.preprocessing import main as preprocessing\n",
    "from resdsql.schema_item_classifier import classify_schema_items\n",
    "from resdsql.text2sql_data_generator import generate_dataset\n",
    "from resdsql.text2sql import generate_sql"
   ]
  },
  {
   "cell_type": "code",
   "execution_count": 9,
   "metadata": {},
   "outputs": [],
   "source": [
    "def predict_sql(question, sem_names, db_path, num_beams=8, num_return_sequences=8, seed=42):\n",
    "    with tempfile.TemporaryDirectory() as temp_dir:\n",
    "        \n",
    "        # paths\n",
    "        temp_dir = Path(temp_dir)\n",
    "        tables_path = temp_dir / 'tables.json'\n",
    "        samples_path = temp_dir / 'dev.json'\n",
    "        preprocessed_samples_path = temp_dir / 'preprocessed_test.json'\n",
    "        database_path = temp_dir / 'database'\n",
    "        database_base_path = database_path / 'base'\n",
    "        with_probs_path = temp_dir / 'with_probs.json'\n",
    "        dataset_path = temp_dir / 'dataset.json'\n",
    "        output_path = temp_dir / 'output.sql'\n",
    "\n",
    "        # create tables.json\n",
    "        tables = get_tables(db_path, sem_names=sem_names)\n",
    "        with open(tables_path, 'w') as f:\n",
    "            json.dump(tables, f, indent=4, ensure_ascii=False)\n",
    "\n",
    "        # create dev.json\n",
    "        with open(samples_path, 'w') as f:\n",
    "            samples = [\n",
    "                {\n",
    "                    'db_id': 'base',\n",
    "                    'question': question,\n",
    "                }\n",
    "            ]\n",
    "            json.dump(samples, f, indent=4, ensure_ascii=False)\n",
    "            \n",
    "        # create database dir\n",
    "        database_base_path.mkdir(parents=True)\n",
    "        shutil.copy(str(db_path), str(database_base_path / 'base.sqlite'))\n",
    "\n",
    "        # preprocessing\n",
    "        preprocessing(\n",
    "            mode='test',\n",
    "            table_path=str(tables_path),\n",
    "            input_dataset_path=str(samples_path),\n",
    "            output_dataset_path=str(preprocessed_samples_path),\n",
    "            db_path=str(database_path),\n",
    "            target_type='sql',\n",
    "        )\n",
    "        \n",
    "        classify_schema_items(\n",
    "            batch_size=1,\n",
    "            # device\n",
    "            # seed\n",
    "            # save_path,\n",
    "            dev_filepath=str(preprocessed_samples_path),\n",
    "            output_filepath=str(with_probs_path),\n",
    "            use_contents=True,\n",
    "            add_fk_info=True,\n",
    "            mode='test',\n",
    "        )\n",
    "        \n",
    "        generate_dataset(\n",
    "            input_dataset_path=str(with_probs_path),\n",
    "            output_dataset_path=str(dataset_path),\n",
    "            topk_table_num=4,\n",
    "            topk_column_num=5,\n",
    "            mode='test',\n",
    "            use_contents=True,\n",
    "            add_fk_info=True,\n",
    "            output_skeleton=True,\n",
    "            target_type='sql'\n",
    "        )\n",
    "        \n",
    "        generate_sql(\n",
    "            batch_size=1,\n",
    "            seed=seed,\n",
    "            mode=\"eval\",\n",
    "            dev_filepath=str(dataset_path),\n",
    "            db_path=str(database_path),\n",
    "            num_beams=num_beams,\n",
    "            num_return_sequences=num_return_sequences,\n",
    "            target_type=\"sql\",\n",
    "            output=str(output_path),\n",
    "        )\n",
    "        \n",
    "        with open(output_path) as f:\n",
    "            lines = f.readlines()\n",
    "            \n",
    "        return lines[0].strip()"
   ]
  },
  {
   "cell_type": "code",
   "execution_count": 10,
   "metadata": {},
   "outputs": [
    {
     "name": "stdout",
     "output_type": "stream",
     "text": [
      "3000\n"
     ]
    },
    {
     "name": "stderr",
     "output_type": "stream",
     "text": [
      "1it [00:00, 10.53it/s]\n",
      "100%|██████████| 1/1 [00:00<00:00, 10.40it/s]\n",
      "100%|██████████| 1/1 [00:00<00:00,  1.25it/s]\n"
     ]
    },
    {
     "name": "stdout",
     "output_type": "stream",
     "text": [
      "Text-to-SQL inference spends 0.7985846996307373s.\n",
      "/tmp/tmpei_1r9ph\n"
     ]
    },
    {
     "ename": "KeyboardInterrupt",
     "evalue": "",
     "output_type": "error",
     "traceback": [
      "\u001b[0;31m---------------------------------------------------------------------------\u001b[0m",
      "\u001b[0;31mKeyboardInterrupt\u001b[0m                         Traceback (most recent call last)",
      "Cell \u001b[0;32mIn[10], line 15\u001b[0m\n\u001b[1;32m     12\u001b[0m question \u001b[39m=\u001b[39m \u001b[39m'\u001b[39m\u001b[39mZwróć imiona wszystkich studentów\u001b[39m\u001b[39m'\u001b[39m\n\u001b[1;32m     13\u001b[0m \u001b[39m# question = 'Znajdź budynki, które mają pokoje o pojemności większej niż 50.'\u001b[39;00m\n\u001b[0;32m---> 15\u001b[0m predict_sql(\n\u001b[1;32m     16\u001b[0m     question,\n\u001b[1;32m     17\u001b[0m     sem_names,\n\u001b[1;32m     18\u001b[0m     db_path,\n\u001b[1;32m     19\u001b[0m     num_beams\u001b[39m=\u001b[39;49m\u001b[39m4\u001b[39;49m,\n\u001b[1;32m     20\u001b[0m     num_return_sequences\u001b[39m=\u001b[39;49m\u001b[39m4\u001b[39;49m,\n\u001b[1;32m     21\u001b[0m     seed\u001b[39m=\u001b[39;49m\u001b[39m15452234\u001b[39;49m,\n\u001b[1;32m     22\u001b[0m )\n",
      "Cell \u001b[0;32mIn[9], line 83\u001b[0m, in \u001b[0;36mpredict_sql\u001b[0;34m(question, sem_names, db_path, num_beams, num_return_sequences, seed)\u001b[0m\n\u001b[1;32m     70\u001b[0m generate_sql(\n\u001b[1;32m     71\u001b[0m     batch_size\u001b[39m=\u001b[39m\u001b[39m1\u001b[39m,\n\u001b[1;32m     72\u001b[0m     seed\u001b[39m=\u001b[39mseed,\n\u001b[0;32m   (...)\u001b[0m\n\u001b[1;32m     79\u001b[0m     output\u001b[39m=\u001b[39m\u001b[39mstr\u001b[39m(output_path),\n\u001b[1;32m     80\u001b[0m )\n\u001b[1;32m     82\u001b[0m \u001b[39mprint\u001b[39m(temp_dir)\n\u001b[0;32m---> 83\u001b[0m time\u001b[39m.\u001b[39;49msleep(\u001b[39m100.0\u001b[39;49m)\n\u001b[1;32m     85\u001b[0m \u001b[39mwith\u001b[39;00m \u001b[39mopen\u001b[39m(output_path) \u001b[39mas\u001b[39;00m f:\n\u001b[1;32m     86\u001b[0m     lines \u001b[39m=\u001b[39m f\u001b[39m.\u001b[39mreadlines()\n",
      "\u001b[0;31mKeyboardInterrupt\u001b[0m: "
     ]
    }
   ],
   "source": [
    "sem_names = {\n",
    "    # 'student': (\n",
    "    #     'student',\n",
    "    #     {\n",
    "    #         'dept_name': 'department name'\n",
    "    #     }\n",
    "    # )\n",
    "}\n",
    "\n",
    "db_path = '/app/college_2.sqlite'\n",
    "\n",
    "question = 'Zwróć imiona wszystkich studentów'\n",
    "# question = 'Znajdź budynki, które mają pokoje o pojemności większej niż 50.'\n",
    "    \n",
    "predict_sql(\n",
    "    question,\n",
    "    sem_names,\n",
    "    db_path,\n",
    "    num_beams=4,\n",
    "    num_return_sequences=4,\n",
    "    seed=15452234,\n",
    ")"
   ]
  }
 ],
 "metadata": {
  "kernelspec": {
   "display_name": "resdsql",
   "language": "python",
   "name": "python3"
  },
  "language_info": {
   "codemirror_mode": {
    "name": "ipython",
    "version": 3
   },
   "file_extension": ".py",
   "mimetype": "text/x-python",
   "name": "python",
   "nbconvert_exporter": "python",
   "pygments_lexer": "ipython3",
   "version": "3.8.18"
  },
  "orig_nbformat": 4
 },
 "nbformat": 4,
 "nbformat_minor": 2
}
